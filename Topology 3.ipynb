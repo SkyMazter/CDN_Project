{
 "cells": [
  {
   "cell_type": "markdown",
   "id": "727b36cf-7ccf-49cd-ac1f-ad7b081ae7a2",
   "metadata": {},
   "source": [
    "# Topology with 4 networks, 1 network for each server and one for the client"
   ]
  },
  {
   "cell_type": "markdown",
   "id": "d2d831a3-3fff-4377-a7aa-0cba0354bcfc",
   "metadata": {},
   "source": [
    "## Import the FABlib library "
   ]
  },
  {
   "cell_type": "code",
   "execution_count": 112,
   "id": "1e319e9e-36ec-4680-b6dc-1cf81f7d4851",
   "metadata": {},
   "outputs": [
    {
     "data": {
      "text/html": [
       "<style type=\"text/css\">\n",
       "#T_9ab9a tr:nth-child(even) {\n",
       "  background: #dbf3ff;\n",
       "  color: #231f20;\n",
       "}\n",
       "#T_9ab9a tr:nth-child(odd) {\n",
       "  background: #ffffff;\n",
       "  color: #231f20;\n",
       "}\n",
       "#T_9ab9a caption {\n",
       "  text-align: center;\n",
       "  font-size: 150%;\n",
       "}\n",
       "#T_9ab9a_row0_col0, #T_9ab9a_row0_col1, #T_9ab9a_row1_col0, #T_9ab9a_row1_col1, #T_9ab9a_row2_col0, #T_9ab9a_row2_col1, #T_9ab9a_row3_col0, #T_9ab9a_row3_col1, #T_9ab9a_row4_col0, #T_9ab9a_row4_col1, #T_9ab9a_row5_col0, #T_9ab9a_row5_col1, #T_9ab9a_row6_col0, #T_9ab9a_row6_col1, #T_9ab9a_row7_col0, #T_9ab9a_row7_col1, #T_9ab9a_row8_col0, #T_9ab9a_row8_col1, #T_9ab9a_row9_col0, #T_9ab9a_row9_col1, #T_9ab9a_row10_col0, #T_9ab9a_row10_col1, #T_9ab9a_row11_col0, #T_9ab9a_row11_col1, #T_9ab9a_row12_col0, #T_9ab9a_row12_col1, #T_9ab9a_row13_col0, #T_9ab9a_row13_col1, #T_9ab9a_row14_col0, #T_9ab9a_row14_col1, #T_9ab9a_row15_col0, #T_9ab9a_row15_col1, #T_9ab9a_row16_col0, #T_9ab9a_row16_col1 {\n",
       "  text-align: left;\n",
       "  border: 1px #231f20 solid !important;\n",
       "  overwrite: False;\n",
       "}\n",
       "</style>\n",
       "<table id=\"T_9ab9a\">\n",
       "  <caption>FABlib Config</caption>\n",
       "  <thead>\n",
       "  </thead>\n",
       "  <tbody>\n",
       "    <tr>\n",
       "      <td id=\"T_9ab9a_row0_col0\" class=\"data row0 col0\" >Orchestrator</td>\n",
       "      <td id=\"T_9ab9a_row0_col1\" class=\"data row0 col1\" >orchestrator.fabric-testbed.net</td>\n",
       "    </tr>\n",
       "    <tr>\n",
       "      <td id=\"T_9ab9a_row1_col0\" class=\"data row1 col0\" >Credential Manager</td>\n",
       "      <td id=\"T_9ab9a_row1_col1\" class=\"data row1 col1\" >cm.fabric-testbed.net</td>\n",
       "    </tr>\n",
       "    <tr>\n",
       "      <td id=\"T_9ab9a_row2_col0\" class=\"data row2 col0\" >Core API</td>\n",
       "      <td id=\"T_9ab9a_row2_col1\" class=\"data row2 col1\" >uis.fabric-testbed.net</td>\n",
       "    </tr>\n",
       "    <tr>\n",
       "      <td id=\"T_9ab9a_row3_col0\" class=\"data row3 col0\" >Token File</td>\n",
       "      <td id=\"T_9ab9a_row3_col1\" class=\"data row3 col1\" >/home/fabric/.tokens.json</td>\n",
       "    </tr>\n",
       "    <tr>\n",
       "      <td id=\"T_9ab9a_row4_col0\" class=\"data row4 col0\" >Project ID</td>\n",
       "      <td id=\"T_9ab9a_row4_col1\" class=\"data row4 col1\" >656d5ba5-76e6-44f2-9693-f65937c6de5e</td>\n",
       "    </tr>\n",
       "    <tr>\n",
       "      <td id=\"T_9ab9a_row5_col0\" class=\"data row5 col0\" >Bastion Host</td>\n",
       "      <td id=\"T_9ab9a_row5_col1\" class=\"data row5 col1\" >bastion.fabric-testbed.net</td>\n",
       "    </tr>\n",
       "    <tr>\n",
       "      <td id=\"T_9ab9a_row6_col0\" class=\"data row6 col0\" >Bastion Username</td>\n",
       "      <td id=\"T_9ab9a_row6_col1\" class=\"data row6 col1\" >dayanebobo_0000167444</td>\n",
       "    </tr>\n",
       "    <tr>\n",
       "      <td id=\"T_9ab9a_row7_col0\" class=\"data row7 col0\" >Bastion Private Key File</td>\n",
       "      <td id=\"T_9ab9a_row7_col1\" class=\"data row7 col1\" >/home/fabric/work/fabric_config/fabric-bastion-key</td>\n",
       "    </tr>\n",
       "    <tr>\n",
       "      <td id=\"T_9ab9a_row8_col0\" class=\"data row8 col0\" >Slice Public Key File</td>\n",
       "      <td id=\"T_9ab9a_row8_col1\" class=\"data row8 col1\" >/home/fabric/work/fabric_config/slice_key.pub</td>\n",
       "    </tr>\n",
       "    <tr>\n",
       "      <td id=\"T_9ab9a_row9_col0\" class=\"data row9 col0\" >Slice Private Key File</td>\n",
       "      <td id=\"T_9ab9a_row9_col1\" class=\"data row9 col1\" >/home/fabric/work/fabric_config/slice_key</td>\n",
       "    </tr>\n",
       "    <tr>\n",
       "      <td id=\"T_9ab9a_row10_col0\" class=\"data row10 col0\" >Sites to avoid</td>\n",
       "      <td id=\"T_9ab9a_row10_col1\" class=\"data row10 col1\" ></td>\n",
       "    </tr>\n",
       "    <tr>\n",
       "      <td id=\"T_9ab9a_row11_col0\" class=\"data row11 col0\" >SSH Command Line</td>\n",
       "      <td id=\"T_9ab9a_row11_col1\" class=\"data row11 col1\" >ssh -i {{ _self_.private_ssh_key_file }} -F /home/fabric/work/fabric_config/ssh_config {{ _self_.username }}@{{ _self_.management_ip }}</td>\n",
       "    </tr>\n",
       "    <tr>\n",
       "      <td id=\"T_9ab9a_row12_col0\" class=\"data row12 col0\" >Log Level</td>\n",
       "      <td id=\"T_9ab9a_row12_col1\" class=\"data row12 col1\" >INFO</td>\n",
       "    </tr>\n",
       "    <tr>\n",
       "      <td id=\"T_9ab9a_row13_col0\" class=\"data row13 col0\" >Log File</td>\n",
       "      <td id=\"T_9ab9a_row13_col1\" class=\"data row13 col1\" >/tmp/fablib/fablib.log</td>\n",
       "    </tr>\n",
       "    <tr>\n",
       "      <td id=\"T_9ab9a_row14_col0\" class=\"data row14 col0\" >Bastion SSH Config File</td>\n",
       "      <td id=\"T_9ab9a_row14_col1\" class=\"data row14 col1\" >/home/fabric/work/fabric_config/ssh_config</td>\n",
       "    </tr>\n",
       "    <tr>\n",
       "      <td id=\"T_9ab9a_row15_col0\" class=\"data row15 col0\" >Version</td>\n",
       "      <td id=\"T_9ab9a_row15_col1\" class=\"data row15 col1\" >1.6.2</td>\n",
       "    </tr>\n",
       "    <tr>\n",
       "      <td id=\"T_9ab9a_row16_col0\" class=\"data row16 col0\" >Data directory</td>\n",
       "      <td id=\"T_9ab9a_row16_col1\" class=\"data row16 col1\" >/tmp/fablib</td>\n",
       "    </tr>\n",
       "  </tbody>\n",
       "</table>\n"
      ],
      "text/plain": [
       "<pandas.io.formats.style.Styler at 0x7c090659c950>"
      ]
     },
     "metadata": {},
     "output_type": "display_data"
    }
   ],
   "source": [
    "from ipaddress import ip_address, IPv4Address, IPv6Address, IPv4Network, IPv6Network\n",
    "from fabrictestbed_extensions.fablib.fablib import FablibManager as fablib_manager\n",
    "\n",
    "fablib = fablib_manager()\n",
    "                     \n",
    "fablib.show_config();"
   ]
  },
  {
   "cell_type": "markdown",
   "id": "67178c07-7620-4a85-9a98-694377b00d11",
   "metadata": {},
   "source": [
    "## Creating the experiment slice"
   ]
  },
  {
   "cell_type": "code",
   "execution_count": 113,
   "id": "e7095817-3d36-4078-9772-65f135de6aae",
   "metadata": {},
   "outputs": [
    {
     "name": "stdout",
     "output_type": "stream",
     "text": [
      "Sites: DALL, MAX, PRIN, BRIST, AMST\n"
     ]
    }
   ],
   "source": [
    "slice_name = 'Topology_3'\n",
    "#[site1, site2] = fablib.get_random_sites(count=2)\n",
    "sites = [site1, site2, site3, site4, site5] = ['DALL', 'MAX', 'PRIN', 'BRIST', 'AMST']\n",
    "print(f\"Sites: {site1}, {site2}, {site3}, {site4}, {site5}\")"
   ]
  },
  {
   "cell_type": "markdown",
   "id": "d50f439b-6691-4405-a9b4-03210048b47b",
   "metadata": {},
   "source": [
    "### Creating Slice"
   ]
  },
  {
   "cell_type": "code",
   "execution_count": 114,
   "id": "a8cee4fb-8f16-4152-9d80-20fdc341ca79",
   "metadata": {},
   "outputs": [],
   "source": [
    "slice = fablib.new_slice(name=slice_name)"
   ]
  },
  {
   "cell_type": "markdown",
   "id": "0a128d12-97f6-4d04-b96f-5894fbd7eed0",
   "metadata": {},
   "source": [
    "#### Adding Router\n"
   ]
  },
  {
   "cell_type": "code",
   "execution_count": 115,
   "id": "c6b817f0-1354-49ba-90f9-1e0fb62d2e49",
   "metadata": {},
   "outputs": [],
   "source": [
    "net1 = slice.add_l2network(name='net1')\n",
    "\n",
    "router1 = slice.add_node(name='ROUTER_CDN', site=site1, cores=2, ram=8, disk=10, image='default_ubuntu_22', host=f'{site1.lower()}-w1.fabric-testbed.net')\n",
    "router1_local_iface = router1.add_component(model='NIC_Basic', name='nic_router1').get_interfaces()[0]\n",
    "net1.add_interface(router1_local_iface)"
   ]
  },
  {
   "cell_type": "markdown",
   "id": "da57ba24-d021-4309-9d53-1973e2918731",
   "metadata": {},
   "source": [
    "Adding interfaces\n"
   ]
  },
  {
   "cell_type": "code",
   "execution_count": 116,
   "id": "b044bc2c-8648-4f82-b3ae-8c87c06bf571",
   "metadata": {},
   "outputs": [],
   "source": [
    "net2 = slice.add_l2network(name='net2')\n",
    "\n",
    "router2_local_iface = router1.add_component(model='NIC_Basic', name='nic_router2').get_interfaces()[0]\n",
    "net2.add_interface(router2_local_iface)"
   ]
  },
  {
   "cell_type": "code",
   "execution_count": 117,
   "id": "1167f956-c1dc-44e0-90f3-388c0d2a271b",
   "metadata": {},
   "outputs": [],
   "source": [
    "net3 = slice.add_l2network(name='net3')\n",
    "\n",
    "router2_local_iface2 = router1.add_component(model='NIC_Basic', name='nic_router3').get_interfaces()[0]\n",
    "net3.add_interface(router2_local_iface2)\n",
    "\n"
   ]
  },
  {
   "cell_type": "code",
   "execution_count": 118,
   "id": "df96876e-0556-4b4e-b57a-befbb265023f",
   "metadata": {},
   "outputs": [],
   "source": [
    "net4 = slice.add_l2network(name='net4')\n",
    "\n",
    "router2_local_iface3 = router1.add_component(model='NIC_Basic', name='nic_router4').get_interfaces()[0]\n",
    "net4.add_interface(router2_local_iface3)\n",
    "\n"
   ]
  },
  {
   "cell_type": "code",
   "execution_count": 119,
   "id": "9a8798d7-b6a0-4e05-9108-1ec913db14c1",
   "metadata": {},
   "outputs": [],
   "source": [
    "net5 = slice.add_l2network(name='net5')\n",
    "\n",
    "router2_local_iface4 = router1.add_component(model='NIC_Basic', name='nic_router5').get_interfaces()[0]\n",
    "net5.add_interface(router2_local_iface4)\n",
    "\n"
   ]
  },
  {
   "cell_type": "markdown",
   "id": "44150e76-d306-4cf8-8208-087d0cbe0c21",
   "metadata": {},
   "source": [
    "#### Adding Server nodes to site 2 3 and 4\n"
   ]
  },
  {
   "cell_type": "code",
   "execution_count": 120,
   "id": "d5d0419c-8d47-41d5-b13a-53eeacd98b74",
   "metadata": {},
   "outputs": [
    {
     "name": "stdout",
     "output_type": "stream",
     "text": [
      "Adding nodes to MAX\n",
      "Adding nodes to PRIN\n",
      "Adding nodes to BRIST\n"
     ]
    }
   ],
   "source": [
    "site_node_count = 1\n",
    "for i, site in enumerate([ site2, site3, site4]):\n",
    "    print(f\"Adding nodes to {site}\")\n",
    "    for node_num in range(site_node_count):\n",
    "        node_name = f\"server_{i+1}\"\n",
    "        node = slice.add_node(name=node_name, site=site, cores=2, ram=8, disk=10, image='default_ubuntu_22', host=f'{site.lower()}-w2.fabric-testbed.net')\n",
    "        iface = node.add_component(model='NIC_Basic', name='nic_local').get_interfaces()[0]\n",
    "        network = slice.get_network(name=f'net{i+1}')\n",
    "        network.add_interface(iface)"
   ]
  },
  {
   "cell_type": "markdown",
   "id": "cf5beb1b-32ed-4c62-8798-eef0f854174b",
   "metadata": {},
   "source": [
    "#### Adding Client node to site 5"
   ]
  },
  {
   "cell_type": "code",
   "execution_count": 121,
   "id": "eb0c91e2-79a2-4498-ae78-100ba09f5dde",
   "metadata": {},
   "outputs": [
    {
     "name": "stdout",
     "output_type": "stream",
     "text": [
      "Adding nodes to AMST\n"
     ]
    }
   ],
   "source": [
    "site_node_count = 1\n",
    "for i, site in enumerate([site5]):\n",
    "    print(f\"Adding nodes to {site}\")\n",
    "    for node_num in range(site_node_count):\n",
    "        node_name = f\"client_{node_num+1}\"\n",
    "        node = slice.add_node(name=node_name, site=site, cores=2, ram=8, disk=10, image='default_ubuntu_22', host=f'{site.lower()}-w2.fabric-testbed.net')\n",
    "        iface = node.add_component(model='NIC_Basic', name='nic_local').get_interfaces()[0]\n",
    "        network = slice.get_network(name='net5')\n",
    "        network.add_interface(iface)"
   ]
  },
  {
   "cell_type": "markdown",
   "id": "580f5948-197e-4e62-8787-cee2f680b2bc",
   "metadata": {},
   "source": [
    "#### Lets submit the slice now"
   ]
  },
  {
   "cell_type": "code",
   "execution_count": null,
   "id": "66537a1c-58e8-436c-9694-2bb7c4b05a59",
   "metadata": {},
   "outputs": [],
   "source": [
    "slice.submit();"
   ]
  },
  {
   "cell_type": "markdown",
   "id": "e27920de-163d-4195-b63c-2a97e40c3d4e",
   "metadata": {},
   "source": [
    "## Delete the Slice\n",
    "\n",
    "Please delete your slice when you are done with your experiment."
   ]
  },
  {
   "cell_type": "code",
   "execution_count": 106,
   "id": "62be537f-047e-4d7f-a2a6-ef061daad0bf",
   "metadata": {},
   "outputs": [],
   "source": [
    "try:\n",
    "    slice = fablib.get_slice(name=slice_name)\n",
    "    slice.delete()\n",
    "except Exception as e:\n",
    "    print(f\"Exception: {e}\")"
   ]
  },
  {
   "cell_type": "code",
   "execution_count": null,
   "id": "b34de33c-da7e-4594-88d3-d5a5f7735a63",
   "metadata": {},
   "outputs": [],
   "source": []
  },
  {
   "cell_type": "code",
   "execution_count": null,
   "id": "281e454e-6da2-4997-8239-82554868518f",
   "metadata": {},
   "outputs": [],
   "source": []
  }
 ],
 "metadata": {
  "kernelspec": {
   "display_name": "Python 3 (ipykernel)",
   "language": "python",
   "name": "python3"
  },
  "language_info": {
   "codemirror_mode": {
    "name": "ipython",
    "version": 3
   },
   "file_extension": ".py",
   "mimetype": "text/x-python",
   "name": "python",
   "nbconvert_exporter": "python",
   "pygments_lexer": "ipython3",
   "version": "3.11.8"
  }
 },
 "nbformat": 4,
 "nbformat_minor": 5
}
