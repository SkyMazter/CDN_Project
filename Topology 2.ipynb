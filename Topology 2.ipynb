{
 "cells": [
  {
   "cell_type": "markdown",
   "id": "727b36cf-7ccf-49cd-ac1f-ad7b081ae7a2",
   "metadata": {},
   "source": [
    "# Topology with 2 networks, 1 containing all the servers and the other containing the client"
   ]
  },
  {
   "cell_type": "markdown",
   "id": "d2d831a3-3fff-4377-a7aa-0cba0354bcfc",
   "metadata": {},
   "source": [
    "## Import the FABlib library "
   ]
  },
  {
   "cell_type": "code",
   "execution_count": 83,
   "id": "1e319e9e-36ec-4680-b6dc-1cf81f7d4851",
   "metadata": {},
   "outputs": [
    {
     "data": {
      "text/html": [
       "<style type=\"text/css\">\n",
       "#T_d62b6 tr:nth-child(even) {\n",
       "  background: #dbf3ff;\n",
       "  color: #231f20;\n",
       "}\n",
       "#T_d62b6 tr:nth-child(odd) {\n",
       "  background: #ffffff;\n",
       "  color: #231f20;\n",
       "}\n",
       "#T_d62b6 caption {\n",
       "  text-align: center;\n",
       "  font-size: 150%;\n",
       "}\n",
       "#T_d62b6_row0_col0, #T_d62b6_row0_col1, #T_d62b6_row1_col0, #T_d62b6_row1_col1, #T_d62b6_row2_col0, #T_d62b6_row2_col1, #T_d62b6_row3_col0, #T_d62b6_row3_col1, #T_d62b6_row4_col0, #T_d62b6_row4_col1, #T_d62b6_row5_col0, #T_d62b6_row5_col1, #T_d62b6_row6_col0, #T_d62b6_row6_col1, #T_d62b6_row7_col0, #T_d62b6_row7_col1, #T_d62b6_row8_col0, #T_d62b6_row8_col1, #T_d62b6_row9_col0, #T_d62b6_row9_col1, #T_d62b6_row10_col0, #T_d62b6_row10_col1, #T_d62b6_row11_col0, #T_d62b6_row11_col1, #T_d62b6_row12_col0, #T_d62b6_row12_col1, #T_d62b6_row13_col0, #T_d62b6_row13_col1, #T_d62b6_row14_col0, #T_d62b6_row14_col1, #T_d62b6_row15_col0, #T_d62b6_row15_col1, #T_d62b6_row16_col0, #T_d62b6_row16_col1 {\n",
       "  text-align: left;\n",
       "  border: 1px #231f20 solid !important;\n",
       "  overwrite: False;\n",
       "}\n",
       "</style>\n",
       "<table id=\"T_d62b6\">\n",
       "  <caption>FABlib Config</caption>\n",
       "  <thead>\n",
       "  </thead>\n",
       "  <tbody>\n",
       "    <tr>\n",
       "      <td id=\"T_d62b6_row0_col0\" class=\"data row0 col0\" >Orchestrator</td>\n",
       "      <td id=\"T_d62b6_row0_col1\" class=\"data row0 col1\" >orchestrator.fabric-testbed.net</td>\n",
       "    </tr>\n",
       "    <tr>\n",
       "      <td id=\"T_d62b6_row1_col0\" class=\"data row1 col0\" >Credential Manager</td>\n",
       "      <td id=\"T_d62b6_row1_col1\" class=\"data row1 col1\" >cm.fabric-testbed.net</td>\n",
       "    </tr>\n",
       "    <tr>\n",
       "      <td id=\"T_d62b6_row2_col0\" class=\"data row2 col0\" >Core API</td>\n",
       "      <td id=\"T_d62b6_row2_col1\" class=\"data row2 col1\" >uis.fabric-testbed.net</td>\n",
       "    </tr>\n",
       "    <tr>\n",
       "      <td id=\"T_d62b6_row3_col0\" class=\"data row3 col0\" >Token File</td>\n",
       "      <td id=\"T_d62b6_row3_col1\" class=\"data row3 col1\" >/home/fabric/.tokens.json</td>\n",
       "    </tr>\n",
       "    <tr>\n",
       "      <td id=\"T_d62b6_row4_col0\" class=\"data row4 col0\" >Project ID</td>\n",
       "      <td id=\"T_d62b6_row4_col1\" class=\"data row4 col1\" >656d5ba5-76e6-44f2-9693-f65937c6de5e</td>\n",
       "    </tr>\n",
       "    <tr>\n",
       "      <td id=\"T_d62b6_row5_col0\" class=\"data row5 col0\" >Bastion Host</td>\n",
       "      <td id=\"T_d62b6_row5_col1\" class=\"data row5 col1\" >bastion.fabric-testbed.net</td>\n",
       "    </tr>\n",
       "    <tr>\n",
       "      <td id=\"T_d62b6_row6_col0\" class=\"data row6 col0\" >Bastion Username</td>\n",
       "      <td id=\"T_d62b6_row6_col1\" class=\"data row6 col1\" >dayanebobo_0000167444</td>\n",
       "    </tr>\n",
       "    <tr>\n",
       "      <td id=\"T_d62b6_row7_col0\" class=\"data row7 col0\" >Bastion Private Key File</td>\n",
       "      <td id=\"T_d62b6_row7_col1\" class=\"data row7 col1\" >/home/fabric/work/fabric_config/fabric-bastion-key</td>\n",
       "    </tr>\n",
       "    <tr>\n",
       "      <td id=\"T_d62b6_row8_col0\" class=\"data row8 col0\" >Slice Public Key File</td>\n",
       "      <td id=\"T_d62b6_row8_col1\" class=\"data row8 col1\" >/home/fabric/work/fabric_config/slice_key.pub</td>\n",
       "    </tr>\n",
       "    <tr>\n",
       "      <td id=\"T_d62b6_row9_col0\" class=\"data row9 col0\" >Slice Private Key File</td>\n",
       "      <td id=\"T_d62b6_row9_col1\" class=\"data row9 col1\" >/home/fabric/work/fabric_config/slice_key</td>\n",
       "    </tr>\n",
       "    <tr>\n",
       "      <td id=\"T_d62b6_row10_col0\" class=\"data row10 col0\" >Sites to avoid</td>\n",
       "      <td id=\"T_d62b6_row10_col1\" class=\"data row10 col1\" ></td>\n",
       "    </tr>\n",
       "    <tr>\n",
       "      <td id=\"T_d62b6_row11_col0\" class=\"data row11 col0\" >SSH Command Line</td>\n",
       "      <td id=\"T_d62b6_row11_col1\" class=\"data row11 col1\" >ssh -i {{ _self_.private_ssh_key_file }} -F /home/fabric/work/fabric_config/ssh_config {{ _self_.username }}@{{ _self_.management_ip }}</td>\n",
       "    </tr>\n",
       "    <tr>\n",
       "      <td id=\"T_d62b6_row12_col0\" class=\"data row12 col0\" >Log Level</td>\n",
       "      <td id=\"T_d62b6_row12_col1\" class=\"data row12 col1\" >INFO</td>\n",
       "    </tr>\n",
       "    <tr>\n",
       "      <td id=\"T_d62b6_row13_col0\" class=\"data row13 col0\" >Log File</td>\n",
       "      <td id=\"T_d62b6_row13_col1\" class=\"data row13 col1\" >/tmp/fablib/fablib.log</td>\n",
       "    </tr>\n",
       "    <tr>\n",
       "      <td id=\"T_d62b6_row14_col0\" class=\"data row14 col0\" >Bastion SSH Config File</td>\n",
       "      <td id=\"T_d62b6_row14_col1\" class=\"data row14 col1\" >/home/fabric/work/fabric_config/ssh_config</td>\n",
       "    </tr>\n",
       "    <tr>\n",
       "      <td id=\"T_d62b6_row15_col0\" class=\"data row15 col0\" >Version</td>\n",
       "      <td id=\"T_d62b6_row15_col1\" class=\"data row15 col1\" >1.6.2</td>\n",
       "    </tr>\n",
       "    <tr>\n",
       "      <td id=\"T_d62b6_row16_col0\" class=\"data row16 col0\" >Data directory</td>\n",
       "      <td id=\"T_d62b6_row16_col1\" class=\"data row16 col1\" >/tmp/fablib</td>\n",
       "    </tr>\n",
       "  </tbody>\n",
       "</table>\n"
      ],
      "text/plain": [
       "<pandas.io.formats.style.Styler at 0x7fe794578910>"
      ]
     },
     "metadata": {},
     "output_type": "display_data"
    }
   ],
   "source": [
    "from ipaddress import ip_address, IPv4Address, IPv6Address, IPv4Network, IPv6Network\n",
    "from fabrictestbed_extensions.fablib.fablib import FablibManager as fablib_manager\n",
    "\n",
    "fablib = fablib_manager()\n",
    "                     \n",
    "fablib.show_config();"
   ]
  },
  {
   "cell_type": "markdown",
   "id": "67178c07-7620-4a85-9a98-694377b00d11",
   "metadata": {},
   "source": [
    "## Creating the experiment slice"
   ]
  },
  {
   "cell_type": "code",
   "execution_count": 84,
   "id": "e7095817-3d36-4078-9772-65f135de6aae",
   "metadata": {},
   "outputs": [
    {
     "name": "stdout",
     "output_type": "stream",
     "text": [
      "Sites: DALL, MAX\n"
     ]
    }
   ],
   "source": [
    "slice_name = 'Topology_2'\n",
    "#[site1, site2] = fablib.get_random_sites(count=2)\n",
    "sites = [site1, site2] = ['DALL', 'MAX']\n",
    "print(f\"Sites: {site1}, {site2}\")"
   ]
  },
  {
   "cell_type": "markdown",
   "id": "d50f439b-6691-4405-a9b4-03210048b47b",
   "metadata": {},
   "source": [
    "### Creating Slice"
   ]
  },
  {
   "cell_type": "code",
   "execution_count": 85,
   "id": "a8cee4fb-8f16-4152-9d80-20fdc341ca79",
   "metadata": {},
   "outputs": [],
   "source": [
    "slice = fablib.new_slice(name=slice_name)"
   ]
  },
  {
   "cell_type": "markdown",
   "id": "0a128d12-97f6-4d04-b96f-5894fbd7eed0",
   "metadata": {},
   "source": [
    "#### Adding Routers"
   ]
  },
  {
   "cell_type": "code",
   "execution_count": 86,
   "id": "c6b817f0-1354-49ba-90f9-1e0fb62d2e49",
   "metadata": {},
   "outputs": [],
   "source": [
    "net1 = slice.add_l2network(name='net1', subnet=IPv4Network(\"192.168.1.0/24\"))\n",
    "\n",
    "router1 = slice.add_node(name='LAN-A', site=site1, cores=2, ram=8, disk=10, image='default_ubuntu_22', host=f'{site1.lower()}-w1.fabric-testbed.net')\n",
    "router1_local_iface = router1.add_component(model='NIC_Basic', name='nic_router1').get_interfaces()[0]\n",
    "net1.add_interface(router1_local_iface)"
   ]
  },
  {
   "cell_type": "code",
   "execution_count": 87,
   "id": "b044bc2c-8648-4f82-b3ae-8c87c06bf571",
   "metadata": {},
   "outputs": [],
   "source": [
    "net2 = slice.add_l2network(name='net2', subnet=IPv4Network(\"192.168.2.0/24\"))\n",
    "\n",
    "router2 = slice.add_node(name='LAN-B', site=site2, cores=2, ram=8, disk=10, image='default_ubuntu_22', host=f'{site2.lower()}-w1.fabric-testbed.net')\n",
    "router2_local_iface = router2.add_component(model='NIC_Basic', name='nic_router2').get_interfaces()[0]\n",
    "net2.add_interface(router2_local_iface)"
   ]
  },
  {
   "cell_type": "markdown",
   "id": "44150e76-d306-4cf8-8208-087d0cbe0c21",
   "metadata": {},
   "source": [
    "#### Adding Server nodes to site 1\n"
   ]
  },
  {
   "cell_type": "code",
   "execution_count": 88,
   "id": "d5d0419c-8d47-41d5-b13a-53eeacd98b74",
   "metadata": {},
   "outputs": [
    {
     "name": "stdout",
     "output_type": "stream",
     "text": [
      "Adding nodes to DALL\n"
     ]
    }
   ],
   "source": [
    "site_node_count = 3\n",
    "for i, site in enumerate([site1]):\n",
    "    print(f\"Adding nodes to {site}\")\n",
    "    for node_num in range(site_node_count):\n",
    "        node_name = f\"server_{node_num+1}\"\n",
    "        node = slice.add_node(name=node_name, site=site, cores=2, ram=8, disk=10, image='default_ubuntu_22', host=f'{site.lower()}-w2.fabric-testbed.net')\n",
    "        iface = node.add_component(model='NIC_Basic', name='nic_local').get_interfaces()[0]\n",
    "        network = slice.get_network(name='net1')\n",
    "        network.add_interface(iface)"
   ]
  },
  {
   "cell_type": "markdown",
   "id": "cf5beb1b-32ed-4c62-8798-eef0f854174b",
   "metadata": {},
   "source": [
    "#### Adding Client node to site 2"
   ]
  },
  {
   "cell_type": "code",
   "execution_count": 89,
   "id": "eb0c91e2-79a2-4498-ae78-100ba09f5dde",
   "metadata": {},
   "outputs": [
    {
     "name": "stdout",
     "output_type": "stream",
     "text": [
      "Adding nodes to MAX\n"
     ]
    }
   ],
   "source": [
    "site_node_count = 1\n",
    "for i, site in enumerate([site2]):\n",
    "    print(f\"Adding nodes to {site}\")\n",
    "    for node_num in range(site_node_count):\n",
    "        node_name = f\"client_{node_num+1}\"\n",
    "        node = slice.add_node(name=node_name, site=site, cores=2, ram=8, disk=10, image='default_ubuntu_22', host=f'{site.lower()}-w2.fabric-testbed.net')\n",
    "        iface = node.add_component(model='NIC_Basic', name='nic_local').get_interfaces()[0]\n",
    "        network = slice.get_network(name='net2')\n",
    "        network.add_interface(iface)"
   ]
  },
  {
   "cell_type": "markdown",
   "id": "6acad2ca-4eb6-495d-a082-e218b6aa9212",
   "metadata": {},
   "source": [
    "#### Linking Router 1 and Router 2"
   ]
  },
  {
   "cell_type": "code",
   "execution_count": 90,
   "id": "e586d4ee-3e9c-4687-8b6e-b4c33d1e047f",
   "metadata": {},
   "outputs": [],
   "source": [
    "link = slice.add_l2network(name='router1_router2')\n",
    "iface1 = router1.add_component(model='NIC_Basic', name=f'router1-router2').get_interfaces()[0]\n",
    "link.add_interface(iface1)\n",
    "iface1_dev = f\"{{{{ interfaces['{iface1.get_name()}'].dev }}}}\"\n",
    "iface2 = router2.add_component(model='NIC_Basic', name=f'router2-router1').get_interfaces()[0]\n",
    "link.add_interface(iface2)"
   ]
  },
  {
   "cell_type": "markdown",
   "id": "580f5948-197e-4e62-8787-cee2f680b2bc",
   "metadata": {},
   "source": [
    "#### Lets submit the slice now"
   ]
  },
  {
   "cell_type": "code",
   "execution_count": null,
   "id": "66537a1c-58e8-436c-9694-2bb7c4b05a59",
   "metadata": {},
   "outputs": [
    {
     "name": "stdout",
     "output_type": "stream",
     "text": [
      "\n",
      "Retry: 9, Time: 212 sec\n"
     ]
    },
    {
     "data": {
      "text/html": [
       "<style type=\"text/css\">\n",
       "#T_53ddf tr:nth-child(even) {\n",
       "  background: #dbf3ff;\n",
       "  color: #231f20;\n",
       "}\n",
       "#T_53ddf tr:nth-child(odd) {\n",
       "  background: #ffffff;\n",
       "  color: #231f20;\n",
       "}\n",
       "#T_53ddf caption {\n",
       "  text-align: center;\n",
       "  font-size: 150%;\n",
       "}\n",
       "#T_53ddf_row0_col0, #T_53ddf_row0_col1, #T_53ddf_row1_col0, #T_53ddf_row1_col1, #T_53ddf_row2_col0, #T_53ddf_row2_col1, #T_53ddf_row3_col0, #T_53ddf_row3_col1, #T_53ddf_row4_col0, #T_53ddf_row4_col1, #T_53ddf_row5_col0 {\n",
       "  text-align: left;\n",
       "  border: 1px #231f20 solid !important;\n",
       "  overwrite: False;\n",
       "  background-color: ;\n",
       "}\n",
       "#T_53ddf_row5_col1 {\n",
       "  text-align: left;\n",
       "  border: 1px #231f20 solid !important;\n",
       "  overwrite: False;\n",
       "  background-color: #ffffbe;\n",
       "}\n",
       "</style>\n",
       "<table id=\"T_53ddf\">\n",
       "  <caption>Slice</caption>\n",
       "  <thead>\n",
       "  </thead>\n",
       "  <tbody>\n",
       "    <tr>\n",
       "      <td id=\"T_53ddf_row0_col0\" class=\"data row0 col0\" >ID</td>\n",
       "      <td id=\"T_53ddf_row0_col1\" class=\"data row0 col1\" >33c86573-1437-4f2d-8dbf-7569a098be4d</td>\n",
       "    </tr>\n",
       "    <tr>\n",
       "      <td id=\"T_53ddf_row1_col0\" class=\"data row1 col0\" >Name</td>\n",
       "      <td id=\"T_53ddf_row1_col1\" class=\"data row1 col1\" >Topology_2</td>\n",
       "    </tr>\n",
       "    <tr>\n",
       "      <td id=\"T_53ddf_row2_col0\" class=\"data row2 col0\" >Lease Expiration (UTC)</td>\n",
       "      <td id=\"T_53ddf_row2_col1\" class=\"data row2 col1\" >2024-05-18 00:29:30 +0000</td>\n",
       "    </tr>\n",
       "    <tr>\n",
       "      <td id=\"T_53ddf_row3_col0\" class=\"data row3 col0\" >Lease Start (UTC)</td>\n",
       "      <td id=\"T_53ddf_row3_col1\" class=\"data row3 col1\" >2024-05-17 00:29:32 +0000</td>\n",
       "    </tr>\n",
       "    <tr>\n",
       "      <td id=\"T_53ddf_row4_col0\" class=\"data row4 col0\" >Project ID</td>\n",
       "      <td id=\"T_53ddf_row4_col1\" class=\"data row4 col1\" >656d5ba5-76e6-44f2-9693-f65937c6de5e</td>\n",
       "    </tr>\n",
       "    <tr>\n",
       "      <td id=\"T_53ddf_row5_col0\" class=\"data row5 col0\" >State</td>\n",
       "      <td id=\"T_53ddf_row5_col1\" class=\"data row5 col1\" >Configuring</td>\n",
       "    </tr>\n",
       "  </tbody>\n",
       "</table>\n"
      ],
      "text/plain": [
       "<pandas.io.formats.style.Styler at 0x7fe7d04f5d10>"
      ]
     },
     "metadata": {},
     "output_type": "display_data"
    },
    {
     "data": {
      "text/html": [
       "<style type=\"text/css\">\n",
       "#T_07c24 caption {\n",
       "  text-align: center;\n",
       "  font-size: 150%;\n",
       "  caption-side: top;\n",
       "}\n",
       "#T_07c24 th {\n",
       "  text-align: left;\n",
       "}\n",
       "#T_07c24 tr:nth-child(even) {\n",
       "  background: #ffffff;\n",
       "  color: #231f20;\n",
       "}\n",
       "#T_07c24 tr:nth-child(odd) {\n",
       "  background: #dbf3ff;\n",
       "  color: #231f20;\n",
       "}\n",
       "#T_07c24 .level0 {\n",
       "  border: 1px black solid !important;\n",
       "  background: #ffffff;\n",
       "  color: #231f20;\n",
       "}\n",
       "#T_07c24_row0_col0, #T_07c24_row0_col1, #T_07c24_row0_col2, #T_07c24_row0_col3, #T_07c24_row1_col0, #T_07c24_row1_col1, #T_07c24_row1_col2, #T_07c24_row1_col3, #T_07c24_row2_col0, #T_07c24_row2_col1, #T_07c24_row2_col2, #T_07c24_row2_col3, #T_07c24_row3_col0, #T_07c24_row3_col1, #T_07c24_row3_col2, #T_07c24_row3_col3, #T_07c24_row4_col0, #T_07c24_row4_col1, #T_07c24_row4_col2, #T_07c24_row4_col3, #T_07c24_row5_col0, #T_07c24_row5_col1, #T_07c24_row5_col2, #T_07c24_row5_col3, #T_07c24_row6_col0, #T_07c24_row6_col1, #T_07c24_row6_col2, #T_07c24_row6_col3, #T_07c24_row7_col0, #T_07c24_row7_col1, #T_07c24_row7_col2, #T_07c24_row7_col3, #T_07c24_row8_col0, #T_07c24_row8_col1, #T_07c24_row8_col2, #T_07c24_row8_col3 {\n",
       "  text-align: left;\n",
       "  border: 1px #231f20 solid !important;\n",
       "  overwrite: False;\n",
       "}\n",
       "#T_07c24_row0_col4, #T_07c24_row1_col4, #T_07c24_row2_col4, #T_07c24_row3_col4, #T_07c24_row4_col4, #T_07c24_row5_col4, #T_07c24_row7_col4, #T_07c24_row8_col4 {\n",
       "  text-align: left;\n",
       "  border: 1px #231f20 solid !important;\n",
       "  overwrite: False;\n",
       "  background-color: #c3ffc4;\n",
       "}\n",
       "#T_07c24_row0_col5, #T_07c24_row1_col5, #T_07c24_row2_col5, #T_07c24_row3_col5, #T_07c24_row4_col5, #T_07c24_row5_col5, #T_07c24_row6_col5, #T_07c24_row7_col5, #T_07c24_row8_col5 {\n",
       "  text-align: left;\n",
       "  border: 1px #231f20 solid !important;\n",
       "  overwrite: False;\n",
       "  background-color: ;\n",
       "}\n",
       "#T_07c24_row6_col4 {\n",
       "  text-align: left;\n",
       "  border: 1px #231f20 solid !important;\n",
       "  overwrite: False;\n",
       "  background-color: #ffffbe;\n",
       "}\n",
       "</style>\n",
       "<table id=\"T_07c24\">\n",
       "  <caption>Slivers</caption>\n",
       "  <thead>\n",
       "    <tr>\n",
       "      <th id=\"T_07c24_level0_col0\" class=\"col_heading level0 col0\" >ID</th>\n",
       "      <th id=\"T_07c24_level0_col1\" class=\"col_heading level0 col1\" >Name</th>\n",
       "      <th id=\"T_07c24_level0_col2\" class=\"col_heading level0 col2\" >Site</th>\n",
       "      <th id=\"T_07c24_level0_col3\" class=\"col_heading level0 col3\" >Type</th>\n",
       "      <th id=\"T_07c24_level0_col4\" class=\"col_heading level0 col4\" >State</th>\n",
       "      <th id=\"T_07c24_level0_col5\" class=\"col_heading level0 col5\" >Error</th>\n",
       "    </tr>\n",
       "  </thead>\n",
       "  <tbody>\n",
       "    <tr>\n",
       "      <td id=\"T_07c24_row0_col0\" class=\"data row0 col0\" >e46b500b-b93c-4eb0-8699-01aaa3a00b7f</td>\n",
       "      <td id=\"T_07c24_row0_col1\" class=\"data row0 col1\" >LAN-A</td>\n",
       "      <td id=\"T_07c24_row0_col2\" class=\"data row0 col2\" >DALL</td>\n",
       "      <td id=\"T_07c24_row0_col3\" class=\"data row0 col3\" >node</td>\n",
       "      <td id=\"T_07c24_row0_col4\" class=\"data row0 col4\" >Active</td>\n",
       "      <td id=\"T_07c24_row0_col5\" class=\"data row0 col5\" ></td>\n",
       "    </tr>\n",
       "    <tr>\n",
       "      <td id=\"T_07c24_row1_col0\" class=\"data row1 col0\" >171e7efe-5465-4dd2-b70a-2edc93cb4bed</td>\n",
       "      <td id=\"T_07c24_row1_col1\" class=\"data row1 col1\" >LAN-B</td>\n",
       "      <td id=\"T_07c24_row1_col2\" class=\"data row1 col2\" >MAX</td>\n",
       "      <td id=\"T_07c24_row1_col3\" class=\"data row1 col3\" >node</td>\n",
       "      <td id=\"T_07c24_row1_col4\" class=\"data row1 col4\" >Active</td>\n",
       "      <td id=\"T_07c24_row1_col5\" class=\"data row1 col5\" ></td>\n",
       "    </tr>\n",
       "    <tr>\n",
       "      <td id=\"T_07c24_row2_col0\" class=\"data row2 col0\" >522cee18-0bc2-45ee-af06-3177a0b93fda</td>\n",
       "      <td id=\"T_07c24_row2_col1\" class=\"data row2 col1\" >client_1</td>\n",
       "      <td id=\"T_07c24_row2_col2\" class=\"data row2 col2\" >MAX</td>\n",
       "      <td id=\"T_07c24_row2_col3\" class=\"data row2 col3\" >node</td>\n",
       "      <td id=\"T_07c24_row2_col4\" class=\"data row2 col4\" >Active</td>\n",
       "      <td id=\"T_07c24_row2_col5\" class=\"data row2 col5\" ></td>\n",
       "    </tr>\n",
       "    <tr>\n",
       "      <td id=\"T_07c24_row3_col0\" class=\"data row3 col0\" >3058c3ea-c6f6-470b-b3ee-ee9a87c0f56a</td>\n",
       "      <td id=\"T_07c24_row3_col1\" class=\"data row3 col1\" >server_1</td>\n",
       "      <td id=\"T_07c24_row3_col2\" class=\"data row3 col2\" >DALL</td>\n",
       "      <td id=\"T_07c24_row3_col3\" class=\"data row3 col3\" >node</td>\n",
       "      <td id=\"T_07c24_row3_col4\" class=\"data row3 col4\" >Active</td>\n",
       "      <td id=\"T_07c24_row3_col5\" class=\"data row3 col5\" ></td>\n",
       "    </tr>\n",
       "    <tr>\n",
       "      <td id=\"T_07c24_row4_col0\" class=\"data row4 col0\" >31e70602-460c-41b9-8781-acacc6bbcd62</td>\n",
       "      <td id=\"T_07c24_row4_col1\" class=\"data row4 col1\" >server_2</td>\n",
       "      <td id=\"T_07c24_row4_col2\" class=\"data row4 col2\" >DALL</td>\n",
       "      <td id=\"T_07c24_row4_col3\" class=\"data row4 col3\" >node</td>\n",
       "      <td id=\"T_07c24_row4_col4\" class=\"data row4 col4\" >Active</td>\n",
       "      <td id=\"T_07c24_row4_col5\" class=\"data row4 col5\" ></td>\n",
       "    </tr>\n",
       "    <tr>\n",
       "      <td id=\"T_07c24_row5_col0\" class=\"data row5 col0\" >bd2a6bef-6eac-4759-b28f-8f197b8c25ad</td>\n",
       "      <td id=\"T_07c24_row5_col1\" class=\"data row5 col1\" >server_3</td>\n",
       "      <td id=\"T_07c24_row5_col2\" class=\"data row5 col2\" >DALL</td>\n",
       "      <td id=\"T_07c24_row5_col3\" class=\"data row5 col3\" >node</td>\n",
       "      <td id=\"T_07c24_row5_col4\" class=\"data row5 col4\" >Active</td>\n",
       "      <td id=\"T_07c24_row5_col5\" class=\"data row5 col5\" ></td>\n",
       "    </tr>\n",
       "    <tr>\n",
       "      <td id=\"T_07c24_row6_col0\" class=\"data row6 col0\" >908266e2-a3a5-4179-bbfa-b256bd91f70a</td>\n",
       "      <td id=\"T_07c24_row6_col1\" class=\"data row6 col1\" >net1</td>\n",
       "      <td id=\"T_07c24_row6_col2\" class=\"data row6 col2\" >DALL</td>\n",
       "      <td id=\"T_07c24_row6_col3\" class=\"data row6 col3\" >network</td>\n",
       "      <td id=\"T_07c24_row6_col4\" class=\"data row6 col4\" >Ticketed</td>\n",
       "      <td id=\"T_07c24_row6_col5\" class=\"data row6 col5\" ></td>\n",
       "    </tr>\n",
       "    <tr>\n",
       "      <td id=\"T_07c24_row7_col0\" class=\"data row7 col0\" >cb6524b4-bde6-4b4a-9058-abd86b8d6b3c</td>\n",
       "      <td id=\"T_07c24_row7_col1\" class=\"data row7 col1\" >net2</td>\n",
       "      <td id=\"T_07c24_row7_col2\" class=\"data row7 col2\" >MAX</td>\n",
       "      <td id=\"T_07c24_row7_col3\" class=\"data row7 col3\" >network</td>\n",
       "      <td id=\"T_07c24_row7_col4\" class=\"data row7 col4\" >Active</td>\n",
       "      <td id=\"T_07c24_row7_col5\" class=\"data row7 col5\" ></td>\n",
       "    </tr>\n",
       "    <tr>\n",
       "      <td id=\"T_07c24_row8_col0\" class=\"data row8 col0\" >9d70c210-8b55-4e19-9277-e4fb109443f1</td>\n",
       "      <td id=\"T_07c24_row8_col1\" class=\"data row8 col1\" >router1_router2</td>\n",
       "      <td id=\"T_07c24_row8_col2\" class=\"data row8 col2\" ></td>\n",
       "      <td id=\"T_07c24_row8_col3\" class=\"data row8 col3\" >network</td>\n",
       "      <td id=\"T_07c24_row8_col4\" class=\"data row8 col4\" >Active</td>\n",
       "      <td id=\"T_07c24_row8_col5\" class=\"data row8 col5\" ></td>\n",
       "    </tr>\n",
       "  </tbody>\n",
       "</table>\n"
      ],
      "text/plain": [
       "<pandas.io.formats.style.Styler at 0x7fe794368f50>"
      ]
     },
     "metadata": {},
     "output_type": "display_data"
    },
    {
     "name": "stderr",
     "output_type": "stream",
     "text": [
      "/opt/conda/lib/python3.11/site-packages/fabrictestbed_extensions/fablib/slice.py:204: FutureWarning: Styler.applymap has been deprecated. Use Styler.map instead.\n",
      "  slice_table.applymap(state_color)\n"
     ]
    }
   ],
   "source": [
    "slice.submit();"
   ]
  },
  {
   "cell_type": "markdown",
   "id": "e27920de-163d-4195-b63c-2a97e40c3d4e",
   "metadata": {},
   "source": [
    "## Delete the Slice\n",
    "\n",
    "Please delete your slice when you are done with your experiment."
   ]
  },
  {
   "cell_type": "code",
   "execution_count": 82,
   "id": "62be537f-047e-4d7f-a2a6-ef061daad0bf",
   "metadata": {},
   "outputs": [],
   "source": [
    "try:\n",
    "    slice = fablib.get_slice(name=slice_name)\n",
    "    slice.delete()\n",
    "except Exception as e:\n",
    "    print(f\"Exception: {e}\")"
   ]
  },
  {
   "cell_type": "code",
   "execution_count": null,
   "id": "b34de33c-da7e-4594-88d3-d5a5f7735a63",
   "metadata": {},
   "outputs": [],
   "source": []
  },
  {
   "cell_type": "code",
   "execution_count": null,
   "id": "281e454e-6da2-4997-8239-82554868518f",
   "metadata": {},
   "outputs": [],
   "source": []
  }
 ],
 "metadata": {
  "kernelspec": {
   "display_name": "Python 3 (ipykernel)",
   "language": "python",
   "name": "python3"
  },
  "language_info": {
   "codemirror_mode": {
    "name": "ipython",
    "version": 3
   },
   "file_extension": ".py",
   "mimetype": "text/x-python",
   "name": "python",
   "nbconvert_exporter": "python",
   "pygments_lexer": "ipython3",
   "version": "3.11.8"
  }
 },
 "nbformat": 4,
 "nbformat_minor": 5
}
