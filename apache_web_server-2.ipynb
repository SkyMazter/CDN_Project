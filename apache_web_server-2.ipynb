{
 "cells": [
  {
   "cell_type": "markdown",
   "id": "172e8938-6610-4bda-b226-6cf0d74ad193",
   "metadata": {},
   "source": [
    "#  Setting Up an Apache Web Server\n",
    "\n",
    "A web server allows for data hosted on one computer (the \"server\") to be accessable by other nodes on the network. We will refer to any nodes wanting to access the data as \"clients\".\n",
    "\n",
    "This example notebook will demonstrate how to set up a client-server network topology on FABRIC, install Apache on a server node, and download files from the server node to a single client node.\n",
    "\n",
    "\n",
    "## Configure the Environment"
   ]
  },
  {
   "cell_type": "markdown",
   "id": "e46aa7ee-f4a9-4cab-9123-6af2c334eca8",
   "metadata": {},
   "source": [
    "## Setup the Experiment\n",
    "\n",
    "#### Import FABRIC API"
   ]
  },
  {
   "cell_type": "code",
   "execution_count": 1,
   "id": "d1c12b38-b9cf-4e0e-9c8b-90bd7bbde094",
   "metadata": {},
   "outputs": [
    {
     "data": {
      "text/html": [
       "<style type=\"text/css\">\n",
       "#T_3fcd0 tr:nth-child(even) {\n",
       "  background: #dbf3ff;\n",
       "  color: #231f20;\n",
       "}\n",
       "#T_3fcd0 tr:nth-child(odd) {\n",
       "  background: #ffffff;\n",
       "  color: #231f20;\n",
       "}\n",
       "#T_3fcd0 caption {\n",
       "  text-align: center;\n",
       "  font-size: 150%;\n",
       "}\n",
       "#T_3fcd0_row0_col0, #T_3fcd0_row0_col1, #T_3fcd0_row1_col0, #T_3fcd0_row1_col1, #T_3fcd0_row2_col0, #T_3fcd0_row2_col1, #T_3fcd0_row3_col0, #T_3fcd0_row3_col1, #T_3fcd0_row4_col0, #T_3fcd0_row4_col1, #T_3fcd0_row5_col0, #T_3fcd0_row5_col1, #T_3fcd0_row6_col0, #T_3fcd0_row6_col1, #T_3fcd0_row7_col0, #T_3fcd0_row7_col1, #T_3fcd0_row8_col0, #T_3fcd0_row8_col1, #T_3fcd0_row9_col0, #T_3fcd0_row9_col1, #T_3fcd0_row10_col0, #T_3fcd0_row10_col1, #T_3fcd0_row11_col0, #T_3fcd0_row11_col1, #T_3fcd0_row12_col0, #T_3fcd0_row12_col1, #T_3fcd0_row13_col0, #T_3fcd0_row13_col1, #T_3fcd0_row14_col0, #T_3fcd0_row14_col1, #T_3fcd0_row15_col0, #T_3fcd0_row15_col1, #T_3fcd0_row16_col0, #T_3fcd0_row16_col1 {\n",
       "  text-align: left;\n",
       "  border: 1px #231f20 solid !important;\n",
       "  overwrite: False;\n",
       "}\n",
       "</style>\n",
       "<table id=\"T_3fcd0\">\n",
       "  <caption>FABlib Config</caption>\n",
       "  <thead>\n",
       "  </thead>\n",
       "  <tbody>\n",
       "    <tr>\n",
       "      <td id=\"T_3fcd0_row0_col0\" class=\"data row0 col0\" >Orchestrator</td>\n",
       "      <td id=\"T_3fcd0_row0_col1\" class=\"data row0 col1\" >orchestrator.fabric-testbed.net</td>\n",
       "    </tr>\n",
       "    <tr>\n",
       "      <td id=\"T_3fcd0_row1_col0\" class=\"data row1 col0\" >Credential Manager</td>\n",
       "      <td id=\"T_3fcd0_row1_col1\" class=\"data row1 col1\" >cm.fabric-testbed.net</td>\n",
       "    </tr>\n",
       "    <tr>\n",
       "      <td id=\"T_3fcd0_row2_col0\" class=\"data row2 col0\" >Core API</td>\n",
       "      <td id=\"T_3fcd0_row2_col1\" class=\"data row2 col1\" >uis.fabric-testbed.net</td>\n",
       "    </tr>\n",
       "    <tr>\n",
       "      <td id=\"T_3fcd0_row3_col0\" class=\"data row3 col0\" >Token File</td>\n",
       "      <td id=\"T_3fcd0_row3_col1\" class=\"data row3 col1\" >/home/fabric/.tokens.json</td>\n",
       "    </tr>\n",
       "    <tr>\n",
       "      <td id=\"T_3fcd0_row4_col0\" class=\"data row4 col0\" >Project ID</td>\n",
       "      <td id=\"T_3fcd0_row4_col1\" class=\"data row4 col1\" >656d5ba5-76e6-44f2-9693-f65937c6de5e</td>\n",
       "    </tr>\n",
       "    <tr>\n",
       "      <td id=\"T_3fcd0_row5_col0\" class=\"data row5 col0\" >Bastion Host</td>\n",
       "      <td id=\"T_3fcd0_row5_col1\" class=\"data row5 col1\" >bastion.fabric-testbed.net</td>\n",
       "    </tr>\n",
       "    <tr>\n",
       "      <td id=\"T_3fcd0_row6_col0\" class=\"data row6 col0\" >Bastion Username</td>\n",
       "      <td id=\"T_3fcd0_row6_col1\" class=\"data row6 col1\" >comunidadoscar_0000173468</td>\n",
       "    </tr>\n",
       "    <tr>\n",
       "      <td id=\"T_3fcd0_row7_col0\" class=\"data row7 col0\" >Bastion Private Key File</td>\n",
       "      <td id=\"T_3fcd0_row7_col1\" class=\"data row7 col1\" >/home/fabric/work/fabric_config/fabric-bastion-key</td>\n",
       "    </tr>\n",
       "    <tr>\n",
       "      <td id=\"T_3fcd0_row8_col0\" class=\"data row8 col0\" >Slice Public Key File</td>\n",
       "      <td id=\"T_3fcd0_row8_col1\" class=\"data row8 col1\" >/home/fabric/work/fabric_config/slice_key.pub</td>\n",
       "    </tr>\n",
       "    <tr>\n",
       "      <td id=\"T_3fcd0_row9_col0\" class=\"data row9 col0\" >Slice Private Key File</td>\n",
       "      <td id=\"T_3fcd0_row9_col1\" class=\"data row9 col1\" >/home/fabric/work/fabric_config/slice_key</td>\n",
       "    </tr>\n",
       "    <tr>\n",
       "      <td id=\"T_3fcd0_row10_col0\" class=\"data row10 col0\" >Sites to avoid</td>\n",
       "      <td id=\"T_3fcd0_row10_col1\" class=\"data row10 col1\" ></td>\n",
       "    </tr>\n",
       "    <tr>\n",
       "      <td id=\"T_3fcd0_row11_col0\" class=\"data row11 col0\" >SSH Command Line</td>\n",
       "      <td id=\"T_3fcd0_row11_col1\" class=\"data row11 col1\" >ssh -i {{ _self_.private_ssh_key_file }} -F /home/fabric/work/fabric_config/ssh_config {{ _self_.username }}@{{ _self_.management_ip }}</td>\n",
       "    </tr>\n",
       "    <tr>\n",
       "      <td id=\"T_3fcd0_row12_col0\" class=\"data row12 col0\" >Log Level</td>\n",
       "      <td id=\"T_3fcd0_row12_col1\" class=\"data row12 col1\" >INFO</td>\n",
       "    </tr>\n",
       "    <tr>\n",
       "      <td id=\"T_3fcd0_row13_col0\" class=\"data row13 col0\" >Log File</td>\n",
       "      <td id=\"T_3fcd0_row13_col1\" class=\"data row13 col1\" >/tmp/fablib/fablib.log</td>\n",
       "    </tr>\n",
       "    <tr>\n",
       "      <td id=\"T_3fcd0_row14_col0\" class=\"data row14 col0\" >Bastion SSH Config File</td>\n",
       "      <td id=\"T_3fcd0_row14_col1\" class=\"data row14 col1\" >/home/fabric/work/fabric_config/ssh_config</td>\n",
       "    </tr>\n",
       "    <tr>\n",
       "      <td id=\"T_3fcd0_row15_col0\" class=\"data row15 col0\" >Version</td>\n",
       "      <td id=\"T_3fcd0_row15_col1\" class=\"data row15 col1\" >1.6.2</td>\n",
       "    </tr>\n",
       "    <tr>\n",
       "      <td id=\"T_3fcd0_row16_col0\" class=\"data row16 col0\" >Data directory</td>\n",
       "      <td id=\"T_3fcd0_row16_col1\" class=\"data row16 col1\" >/tmp/fablib</td>\n",
       "    </tr>\n",
       "  </tbody>\n",
       "</table>\n"
      ],
      "text/plain": [
       "<pandas.io.formats.style.Styler at 0x7c6132d52f90>"
      ]
     },
     "metadata": {},
     "output_type": "display_data"
    }
   ],
   "source": [
    "from ipaddress import ip_address, IPv4Address, IPv6Address, IPv4Network, IPv6Network\n",
    "from fabrictestbed_extensions.fablib.fablib import FablibManager as fablib_manager\n",
    "\n",
    "fablib = fablib_manager()\n",
    "                     \n",
    "fablib.show_config();"
   ]
  },
  {
   "cell_type": "markdown",
   "id": "13998349-9bce-453f-977e-78930228936d",
   "metadata": {},
   "source": [
    "## Step 4: Create the Experiment Slice\n",
    "\n",
    "The following creates two nodes with basic NICs connected to an isolated WAN Ethernet, as outlined in the [Create a Wide Area Ethernet (Layer 2) tutorial](../../fablib_api/create_l2network_wide_area_auto/create_l2network_wide_area_auto.ipynb). More advanced topologies can be created, so long as the server node is routable by each client attempting to access the server's data."
   ]
  },
  {
   "cell_type": "code",
   "execution_count": 2,
   "id": "8ab1834b-6f6d-4109-ad73-2ddda81a104a",
   "metadata": {},
   "outputs": [
    {
     "name": "stdout",
     "output_type": "stream",
     "text": [
      "Sites: SEAT, UTAH\n"
     ]
    }
   ],
   "source": [
    "slice_name = 'MySlice-apache-web-server'\n",
    "[site1,site2]  = fablib.get_random_sites(count=2)\n",
    "print(f\"Sites: {site1}, {site2}\")\n",
    "\n",
    "server_name = 'server'\n",
    "client_name = 'client'\n",
    "network_name='net1'\n",
    "server_nic_name = 'server_nic'\n",
    "client_nic_name = 'client_nic'\n",
    "\n",
    "# We will use Ubuntu 20.04 for both nodes\n",
    "image = 'default_ubuntu_20'"
   ]
  },
  {
   "cell_type": "markdown",
   "id": "dae3919b-af8d-4a7a-bc88-8b8a1d0fa49d",
   "metadata": {},
   "source": [
    "In this example, we will set up an L2 network. As discuss above, a different network configuration, such as using the FABNet L3 network should work, so long as the clients and server can route to each other."
   ]
  },
  {
   "cell_type": "code",
   "execution_count": 3,
   "id": "6b76d1f4-75ad-4907-a671-62e223722c14",
   "metadata": {},
   "outputs": [
    {
     "name": "stdout",
     "output_type": "stream",
     "text": [
      "\n",
      "Retry: 1, Time: 41 sec\n"
     ]
    },
    {
     "data": {
      "text/html": [
       "<style type=\"text/css\">\n",
       "#T_af8e7 tr:nth-child(even) {\n",
       "  background: #dbf3ff;\n",
       "  color: #231f20;\n",
       "}\n",
       "#T_af8e7 tr:nth-child(odd) {\n",
       "  background: #ffffff;\n",
       "  color: #231f20;\n",
       "}\n",
       "#T_af8e7 caption {\n",
       "  text-align: center;\n",
       "  font-size: 150%;\n",
       "}\n",
       "#T_af8e7_row0_col0, #T_af8e7_row0_col1, #T_af8e7_row1_col0, #T_af8e7_row1_col1, #T_af8e7_row2_col0, #T_af8e7_row2_col1, #T_af8e7_row3_col0, #T_af8e7_row3_col1, #T_af8e7_row4_col0, #T_af8e7_row4_col1, #T_af8e7_row5_col0, #T_af8e7_row5_col1 {\n",
       "  text-align: left;\n",
       "  border: 1px #231f20 solid !important;\n",
       "  overwrite: False;\n",
       "  background-color: ;\n",
       "}\n",
       "</style>\n",
       "<table id=\"T_af8e7\">\n",
       "  <caption>Slice</caption>\n",
       "  <thead>\n",
       "  </thead>\n",
       "  <tbody>\n",
       "    <tr>\n",
       "      <td id=\"T_af8e7_row0_col0\" class=\"data row0 col0\" >ID</td>\n",
       "      <td id=\"T_af8e7_row0_col1\" class=\"data row0 col1\" >6ffd4a2a-ca9e-41e2-88a2-c752ea602492</td>\n",
       "    </tr>\n",
       "    <tr>\n",
       "      <td id=\"T_af8e7_row1_col0\" class=\"data row1 col0\" >Name</td>\n",
       "      <td id=\"T_af8e7_row1_col1\" class=\"data row1 col1\" >MySlice-apache-web-server</td>\n",
       "    </tr>\n",
       "    <tr>\n",
       "      <td id=\"T_af8e7_row2_col0\" class=\"data row2 col0\" >Lease Expiration (UTC)</td>\n",
       "      <td id=\"T_af8e7_row2_col1\" class=\"data row2 col1\" >2024-05-16 00:02:08 +0000</td>\n",
       "    </tr>\n",
       "    <tr>\n",
       "      <td id=\"T_af8e7_row3_col0\" class=\"data row3 col0\" >Lease Start (UTC)</td>\n",
       "      <td id=\"T_af8e7_row3_col1\" class=\"data row3 col1\" >2024-05-15 00:02:09 +0000</td>\n",
       "    </tr>\n",
       "    <tr>\n",
       "      <td id=\"T_af8e7_row4_col0\" class=\"data row4 col0\" >Project ID</td>\n",
       "      <td id=\"T_af8e7_row4_col1\" class=\"data row4 col1\" >656d5ba5-76e6-44f2-9693-f65937c6de5e</td>\n",
       "    </tr>\n",
       "    <tr>\n",
       "      <td id=\"T_af8e7_row5_col0\" class=\"data row5 col0\" >State</td>\n",
       "      <td id=\"T_af8e7_row5_col1\" class=\"data row5 col1\" >Closing</td>\n",
       "    </tr>\n",
       "  </tbody>\n",
       "</table>\n"
      ],
      "text/plain": [
       "<pandas.io.formats.style.Styler at 0x7c6130371b50>"
      ]
     },
     "metadata": {},
     "output_type": "display_data"
    },
    {
     "data": {
      "text/html": [
       "<style type=\"text/css\">\n",
       "#T_4a57a caption {\n",
       "  text-align: center;\n",
       "  font-size: 150%;\n",
       "  caption-side: top;\n",
       "}\n",
       "#T_4a57a th {\n",
       "  text-align: left;\n",
       "}\n",
       "#T_4a57a tr:nth-child(even) {\n",
       "  background: #ffffff;\n",
       "  color: #231f20;\n",
       "}\n",
       "#T_4a57a tr:nth-child(odd) {\n",
       "  background: #dbf3ff;\n",
       "  color: #231f20;\n",
       "}\n",
       "#T_4a57a .level0 {\n",
       "  border: 1px black solid !important;\n",
       "  background: #ffffff;\n",
       "  color: #231f20;\n",
       "}\n",
       "#T_4a57a_row0_col0, #T_4a57a_row0_col1, #T_4a57a_row0_col2, #T_4a57a_row0_col3, #T_4a57a_row0_col4, #T_4a57a_row0_col5, #T_4a57a_row0_col6, #T_4a57a_row0_col7, #T_4a57a_row0_col8, #T_4a57a_row0_col9, #T_4a57a_row0_col10, #T_4a57a_row0_col13, #T_4a57a_row0_col14, #T_4a57a_row0_col15, #T_4a57a_row1_col0, #T_4a57a_row1_col1, #T_4a57a_row1_col2, #T_4a57a_row1_col3, #T_4a57a_row1_col4, #T_4a57a_row1_col5, #T_4a57a_row1_col6, #T_4a57a_row1_col7, #T_4a57a_row1_col8, #T_4a57a_row1_col9, #T_4a57a_row1_col10, #T_4a57a_row1_col13, #T_4a57a_row1_col14, #T_4a57a_row1_col15 {\n",
       "  text-align: left;\n",
       "  border: 1px #231f20 solid !important;\n",
       "  overwrite: False;\n",
       "}\n",
       "#T_4a57a_row0_col11, #T_4a57a_row0_col12, #T_4a57a_row1_col11 {\n",
       "  text-align: left;\n",
       "  border: 1px #231f20 solid !important;\n",
       "  overwrite: False;\n",
       "  background-color: ;\n",
       "}\n",
       "#T_4a57a_row1_col12 {\n",
       "  text-align: left;\n",
       "  border: 1px #231f20 solid !important;\n",
       "  overwrite: False;\n",
       "  background-color: #ffb7b9;\n",
       "}\n",
       "</style>\n",
       "<table id=\"T_4a57a\">\n",
       "  <caption>Nodes</caption>\n",
       "  <thead>\n",
       "    <tr>\n",
       "      <th id=\"T_4a57a_level0_col0\" class=\"col_heading level0 col0\" >ID</th>\n",
       "      <th id=\"T_4a57a_level0_col1\" class=\"col_heading level0 col1\" >Name</th>\n",
       "      <th id=\"T_4a57a_level0_col2\" class=\"col_heading level0 col2\" >Cores</th>\n",
       "      <th id=\"T_4a57a_level0_col3\" class=\"col_heading level0 col3\" >RAM</th>\n",
       "      <th id=\"T_4a57a_level0_col4\" class=\"col_heading level0 col4\" >Disk</th>\n",
       "      <th id=\"T_4a57a_level0_col5\" class=\"col_heading level0 col5\" >Image</th>\n",
       "      <th id=\"T_4a57a_level0_col6\" class=\"col_heading level0 col6\" >Image Type</th>\n",
       "      <th id=\"T_4a57a_level0_col7\" class=\"col_heading level0 col7\" >Host</th>\n",
       "      <th id=\"T_4a57a_level0_col8\" class=\"col_heading level0 col8\" >Site</th>\n",
       "      <th id=\"T_4a57a_level0_col9\" class=\"col_heading level0 col9\" >Username</th>\n",
       "      <th id=\"T_4a57a_level0_col10\" class=\"col_heading level0 col10\" >Management IP</th>\n",
       "      <th id=\"T_4a57a_level0_col11\" class=\"col_heading level0 col11\" >State</th>\n",
       "      <th id=\"T_4a57a_level0_col12\" class=\"col_heading level0 col12\" >Error</th>\n",
       "      <th id=\"T_4a57a_level0_col13\" class=\"col_heading level0 col13\" >SSH Command</th>\n",
       "      <th id=\"T_4a57a_level0_col14\" class=\"col_heading level0 col14\" >Public SSH Key File</th>\n",
       "      <th id=\"T_4a57a_level0_col15\" class=\"col_heading level0 col15\" >Private SSH Key File</th>\n",
       "    </tr>\n",
       "  </thead>\n",
       "  <tbody>\n",
       "    <tr>\n",
       "      <td id=\"T_4a57a_row0_col0\" class=\"data row0 col0\" >6fe9f979-9ea3-4d59-a52a-a9297c0b01b4</td>\n",
       "      <td id=\"T_4a57a_row0_col1\" class=\"data row0 col1\" >client</td>\n",
       "      <td id=\"T_4a57a_row0_col2\" class=\"data row0 col2\" >2</td>\n",
       "      <td id=\"T_4a57a_row0_col3\" class=\"data row0 col3\" >8</td>\n",
       "      <td id=\"T_4a57a_row0_col4\" class=\"data row0 col4\" >10</td>\n",
       "      <td id=\"T_4a57a_row0_col5\" class=\"data row0 col5\" >default_ubuntu_20</td>\n",
       "      <td id=\"T_4a57a_row0_col6\" class=\"data row0 col6\" >qcow2</td>\n",
       "      <td id=\"T_4a57a_row0_col7\" class=\"data row0 col7\" >utah-w3.fabric-testbed.net</td>\n",
       "      <td id=\"T_4a57a_row0_col8\" class=\"data row0 col8\" >UTAH</td>\n",
       "      <td id=\"T_4a57a_row0_col9\" class=\"data row0 col9\" >ubuntu</td>\n",
       "      <td id=\"T_4a57a_row0_col10\" class=\"data row0 col10\" ></td>\n",
       "      <td id=\"T_4a57a_row0_col11\" class=\"data row0 col11\" >Closed</td>\n",
       "      <td id=\"T_4a57a_row0_col12\" class=\"data row0 col12\" >TicketReviewPolicy: Closing reservation due to failure in slice#</td>\n",
       "      <td id=\"T_4a57a_row0_col13\" class=\"data row0 col13\" ></td>\n",
       "      <td id=\"T_4a57a_row0_col14\" class=\"data row0 col14\" >/home/fabric/work/fabric_config/slice_key.pub</td>\n",
       "      <td id=\"T_4a57a_row0_col15\" class=\"data row0 col15\" >/home/fabric/work/fabric_config/slice_key</td>\n",
       "    </tr>\n",
       "    <tr>\n",
       "      <td id=\"T_4a57a_row1_col0\" class=\"data row1 col0\" >72af041d-1bc5-4748-9cac-9c792304e911</td>\n",
       "      <td id=\"T_4a57a_row1_col1\" class=\"data row1 col1\" >server</td>\n",
       "      <td id=\"T_4a57a_row1_col2\" class=\"data row1 col2\" >None</td>\n",
       "      <td id=\"T_4a57a_row1_col3\" class=\"data row1 col3\" >None</td>\n",
       "      <td id=\"T_4a57a_row1_col4\" class=\"data row1 col4\" >None</td>\n",
       "      <td id=\"T_4a57a_row1_col5\" class=\"data row1 col5\" >default_ubuntu_20</td>\n",
       "      <td id=\"T_4a57a_row1_col6\" class=\"data row1 col6\" >qcow2</td>\n",
       "      <td id=\"T_4a57a_row1_col7\" class=\"data row1 col7\" >None</td>\n",
       "      <td id=\"T_4a57a_row1_col8\" class=\"data row1 col8\" >SEAT</td>\n",
       "      <td id=\"T_4a57a_row1_col9\" class=\"data row1 col9\" >ubuntu</td>\n",
       "      <td id=\"T_4a57a_row1_col10\" class=\"data row1 col10\" ></td>\n",
       "      <td id=\"T_4a57a_row1_col11\" class=\"data row1 col11\" >Closed</td>\n",
       "      <td id=\"T_4a57a_row1_col12\" class=\"data row1 col12\" >Insufficient resources : [core]#</td>\n",
       "      <td id=\"T_4a57a_row1_col13\" class=\"data row1 col13\" ></td>\n",
       "      <td id=\"T_4a57a_row1_col14\" class=\"data row1 col14\" >/home/fabric/work/fabric_config/slice_key.pub</td>\n",
       "      <td id=\"T_4a57a_row1_col15\" class=\"data row1 col15\" >/home/fabric/work/fabric_config/slice_key</td>\n",
       "    </tr>\n",
       "  </tbody>\n",
       "</table>\n"
      ],
      "text/plain": [
       "<pandas.io.formats.style.Styler at 0x7c6108a07b50>"
      ]
     },
     "metadata": {},
     "output_type": "display_data"
    },
    {
     "data": {
      "text/html": [
       "<style type=\"text/css\">\n",
       "#T_fd3da caption {\n",
       "  text-align: center;\n",
       "  font-size: 150%;\n",
       "  caption-side: top;\n",
       "}\n",
       "#T_fd3da th {\n",
       "  text-align: left;\n",
       "}\n",
       "#T_fd3da tr:nth-child(even) {\n",
       "  background: #ffffff;\n",
       "  color: #231f20;\n",
       "}\n",
       "#T_fd3da tr:nth-child(odd) {\n",
       "  background: #dbf3ff;\n",
       "  color: #231f20;\n",
       "}\n",
       "#T_fd3da .level0 {\n",
       "  border: 1px black solid !important;\n",
       "  background: #ffffff;\n",
       "  color: #231f20;\n",
       "}\n",
       "#T_fd3da_row0_col0, #T_fd3da_row0_col1, #T_fd3da_row0_col2, #T_fd3da_row0_col3, #T_fd3da_row0_col4, #T_fd3da_row0_col5, #T_fd3da_row0_col6 {\n",
       "  text-align: left;\n",
       "  border: 1px #231f20 solid !important;\n",
       "  overwrite: False;\n",
       "}\n",
       "#T_fd3da_row0_col7 {\n",
       "  text-align: left;\n",
       "  border: 1px #231f20 solid !important;\n",
       "  overwrite: False;\n",
       "  background-color: ;\n",
       "}\n",
       "#T_fd3da_row0_col8 {\n",
       "  text-align: left;\n",
       "  border: 1px #231f20 solid !important;\n",
       "  overwrite: False;\n",
       "  background-color: #ffb7b9;\n",
       "}\n",
       "</style>\n",
       "<table id=\"T_fd3da\">\n",
       "  <caption>Networks</caption>\n",
       "  <thead>\n",
       "    <tr>\n",
       "      <th id=\"T_fd3da_level0_col0\" class=\"col_heading level0 col0\" >ID</th>\n",
       "      <th id=\"T_fd3da_level0_col1\" class=\"col_heading level0 col1\" >Name</th>\n",
       "      <th id=\"T_fd3da_level0_col2\" class=\"col_heading level0 col2\" >Layer</th>\n",
       "      <th id=\"T_fd3da_level0_col3\" class=\"col_heading level0 col3\" >Type</th>\n",
       "      <th id=\"T_fd3da_level0_col4\" class=\"col_heading level0 col4\" >Site</th>\n",
       "      <th id=\"T_fd3da_level0_col5\" class=\"col_heading level0 col5\" >Subnet</th>\n",
       "      <th id=\"T_fd3da_level0_col6\" class=\"col_heading level0 col6\" >Gateway</th>\n",
       "      <th id=\"T_fd3da_level0_col7\" class=\"col_heading level0 col7\" >State</th>\n",
       "      <th id=\"T_fd3da_level0_col8\" class=\"col_heading level0 col8\" >Error</th>\n",
       "    </tr>\n",
       "  </thead>\n",
       "  <tbody>\n",
       "    <tr>\n",
       "      <td id=\"T_fd3da_row0_col0\" class=\"data row0 col0\" >a3804aee-1b6d-4984-8767-3ae04ff8926e</td>\n",
       "      <td id=\"T_fd3da_row0_col1\" class=\"data row0 col1\" >net1</td>\n",
       "      <td id=\"T_fd3da_row0_col2\" class=\"data row0 col2\" >L2</td>\n",
       "      <td id=\"T_fd3da_row0_col3\" class=\"data row0 col3\" >L2STS</td>\n",
       "      <td id=\"T_fd3da_row0_col4\" class=\"data row0 col4\" >None</td>\n",
       "      <td id=\"T_fd3da_row0_col5\" class=\"data row0 col5\" >net1.subnet</td>\n",
       "      <td id=\"T_fd3da_row0_col6\" class=\"data row0 col6\" >net1.gateway</td>\n",
       "      <td id=\"T_fd3da_row0_col7\" class=\"data row0 col7\" >Closed</td>\n",
       "      <td id=\"T_fd3da_row0_col8\" class=\"data row0 col8\" >redeem predecessor reservation# 72af041d-1bc5-4748-9cac-9c792304e911 is in a terminal state, failing the reservation# a3804aee-1b6d-4984-8767-3ae04ff8926e#</td>\n",
       "    </tr>\n",
       "  </tbody>\n",
       "</table>\n"
      ],
      "text/plain": [
       "<pandas.io.formats.style.Styler at 0x7c6108a62b50>"
      ]
     },
     "metadata": {},
     "output_type": "display_data"
    },
    {
     "data": {
      "text/html": [
       "<style type=\"text/css\">\n",
       "#T_9e28e caption {\n",
       "  text-align: center;\n",
       "  font-size: 150%;\n",
       "  caption-side: top;\n",
       "}\n",
       "#T_9e28e th {\n",
       "  text-align: left;\n",
       "}\n",
       "#T_9e28e tr:nth-child(even) {\n",
       "  background: #ffffff;\n",
       "  color: #231f20;\n",
       "}\n",
       "#T_9e28e tr:nth-child(odd) {\n",
       "  background: #dbf3ff;\n",
       "  color: #231f20;\n",
       "}\n",
       "#T_9e28e .level0 {\n",
       "  border: 1px black solid !important;\n",
       "  background: #ffffff;\n",
       "  color: #231f20;\n",
       "}\n",
       "#T_9e28e_row0_col0, #T_9e28e_row0_col1, #T_9e28e_row0_col2, #T_9e28e_row0_col3, #T_9e28e_row0_col4, #T_9e28e_row0_col5, #T_9e28e_row0_col6, #T_9e28e_row0_col7, #T_9e28e_row0_col8, #T_9e28e_row0_col9, #T_9e28e_row0_col10, #T_9e28e_row0_col11, #T_9e28e_row1_col0, #T_9e28e_row1_col1, #T_9e28e_row1_col2, #T_9e28e_row1_col3, #T_9e28e_row1_col4, #T_9e28e_row1_col5, #T_9e28e_row1_col6, #T_9e28e_row1_col7, #T_9e28e_row1_col8, #T_9e28e_row1_col9, #T_9e28e_row1_col10, #T_9e28e_row1_col11 {\n",
       "  text-align: left;\n",
       "  border: 1px #231f20 solid !important;\n",
       "  overwrite: False;\n",
       "}\n",
       "</style>\n",
       "<table id=\"T_9e28e\">\n",
       "  <caption>Interfaces</caption>\n",
       "  <thead>\n",
       "    <tr>\n",
       "      <th id=\"T_9e28e_level0_col0\" class=\"col_heading level0 col0\" >Name</th>\n",
       "      <th id=\"T_9e28e_level0_col1\" class=\"col_heading level0 col1\" >Short Name</th>\n",
       "      <th id=\"T_9e28e_level0_col2\" class=\"col_heading level0 col2\" >Node</th>\n",
       "      <th id=\"T_9e28e_level0_col3\" class=\"col_heading level0 col3\" >Network</th>\n",
       "      <th id=\"T_9e28e_level0_col4\" class=\"col_heading level0 col4\" >Bandwidth</th>\n",
       "      <th id=\"T_9e28e_level0_col5\" class=\"col_heading level0 col5\" >Mode</th>\n",
       "      <th id=\"T_9e28e_level0_col6\" class=\"col_heading level0 col6\" >VLAN</th>\n",
       "      <th id=\"T_9e28e_level0_col7\" class=\"col_heading level0 col7\" >MAC</th>\n",
       "      <th id=\"T_9e28e_level0_col8\" class=\"col_heading level0 col8\" >Physical Device</th>\n",
       "      <th id=\"T_9e28e_level0_col9\" class=\"col_heading level0 col9\" >Device</th>\n",
       "      <th id=\"T_9e28e_level0_col10\" class=\"col_heading level0 col10\" >IP Address</th>\n",
       "      <th id=\"T_9e28e_level0_col11\" class=\"col_heading level0 col11\" >Numa Node</th>\n",
       "    </tr>\n",
       "  </thead>\n",
       "  <tbody>\n",
       "    <tr>\n",
       "      <td id=\"T_9e28e_row0_col0\" class=\"data row0 col0\" >server-server_nic-p1</td>\n",
       "      <td id=\"T_9e28e_row0_col1\" class=\"data row0 col1\" >p1</td>\n",
       "      <td id=\"T_9e28e_row0_col2\" class=\"data row0 col2\" >server</td>\n",
       "      <td id=\"T_9e28e_row0_col3\" class=\"data row0 col3\" >net1</td>\n",
       "      <td id=\"T_9e28e_row0_col4\" class=\"data row0 col4\" >100</td>\n",
       "      <td id=\"T_9e28e_row0_col5\" class=\"data row0 col5\" >auto</td>\n",
       "      <td id=\"T_9e28e_row0_col6\" class=\"data row0 col6\" ></td>\n",
       "      <td id=\"T_9e28e_row0_col7\" class=\"data row0 col7\" ></td>\n",
       "      <td id=\"T_9e28e_row0_col8\" class=\"data row0 col8\" ></td>\n",
       "      <td id=\"T_9e28e_row0_col9\" class=\"data row0 col9\" ></td>\n",
       "      <td id=\"T_9e28e_row0_col10\" class=\"data row0 col10\" ></td>\n",
       "      <td id=\"T_9e28e_row0_col11\" class=\"data row0 col11\" >None</td>\n",
       "    </tr>\n",
       "    <tr>\n",
       "      <td id=\"T_9e28e_row1_col0\" class=\"data row1 col0\" >client-client_nic-p1</td>\n",
       "      <td id=\"T_9e28e_row1_col1\" class=\"data row1 col1\" >p1</td>\n",
       "      <td id=\"T_9e28e_row1_col2\" class=\"data row1 col2\" >client</td>\n",
       "      <td id=\"T_9e28e_row1_col3\" class=\"data row1 col3\" >net1</td>\n",
       "      <td id=\"T_9e28e_row1_col4\" class=\"data row1 col4\" >100</td>\n",
       "      <td id=\"T_9e28e_row1_col5\" class=\"data row1 col5\" >auto</td>\n",
       "      <td id=\"T_9e28e_row1_col6\" class=\"data row1 col6\" ></td>\n",
       "      <td id=\"T_9e28e_row1_col7\" class=\"data row1 col7\" ></td>\n",
       "      <td id=\"T_9e28e_row1_col8\" class=\"data row1 col8\" ></td>\n",
       "      <td id=\"T_9e28e_row1_col9\" class=\"data row1 col9\" ></td>\n",
       "      <td id=\"T_9e28e_row1_col10\" class=\"data row1 col10\" ></td>\n",
       "      <td id=\"T_9e28e_row1_col11\" class=\"data row1 col11\" >4</td>\n",
       "    </tr>\n",
       "  </tbody>\n",
       "</table>\n"
      ],
      "text/plain": [
       "<pandas.io.formats.style.Styler at 0x7c6108d83110>"
      ]
     },
     "metadata": {},
     "output_type": "display_data"
    },
    {
     "name": "stdout",
     "output_type": "stream",
     "text": [
      "\n",
      "Time to print interfaces 41 seconds\n"
     ]
    }
   ],
   "source": [
    "try:\n",
    "    #Create Slice\n",
    "    slice = fablib.new_slice(name=slice_name)\n",
    "\n",
    "    # Network\n",
    "    net1 = slice.add_l2network(name=network_name, subnet=IPv4Network(\"192.168.1.0/24\"))\n",
    "\n",
    "    # Node1\n",
    "    server = slice.add_node(name=server_name, site=site1, image=image)\n",
    "    server_iface = server.add_component(model='NIC_Basic', name=server_nic_name).get_interfaces()[0]\n",
    "    server_iface.set_mode('auto')\n",
    "    net1.add_interface(server_iface)\n",
    "    \n",
    "    # Node2\n",
    "    client = slice.add_node(name=client_name, site=site2, image=image)\n",
    "    client_iface = client.add_component(model='NIC_Basic', name=client_nic_name).get_interfaces()[0]\n",
    "    client_iface.set_mode('auto')\n",
    "    net1.add_interface(client_iface)    \n",
    "\n",
    "    #Submit Slice Request\n",
    "    slice.submit()\n",
    "except Exception as e:\n",
    "    print(f\"Exception: {e}\")"
   ]
  },
  {
   "cell_type": "markdown",
   "id": "dc8d9e5e-aac2-4743-9b1f-afc233dd3ea4",
   "metadata": {},
   "source": [
    "## Get Slice information"
   ]
  },
  {
   "cell_type": "code",
   "execution_count": 4,
   "id": "8083cd69-1c83-473c-bdae-c11cfb506d81",
   "metadata": {},
   "outputs": [
    {
     "ename": "Exception",
     "evalue": "Unable to find slice \"MySlice-apache-web-server\" for this project. Check slice name spelling and project id.",
     "output_type": "error",
     "traceback": [
      "\u001b[0;31m---------------------------------------------------------------------------\u001b[0m",
      "\u001b[0;31mException\u001b[0m                                 Traceback (most recent call last)",
      "Cell \u001b[0;32mIn[4], line 1\u001b[0m\n\u001b[0;32m----> 1\u001b[0m \u001b[38;5;28mslice\u001b[39m \u001b[38;5;241m=\u001b[39m \u001b[43mfablib\u001b[49m\u001b[38;5;241;43m.\u001b[39;49m\u001b[43mget_slice\u001b[49m\u001b[43m(\u001b[49m\u001b[43mname\u001b[49m\u001b[38;5;241;43m=\u001b[39;49m\u001b[43mslice_name\u001b[49m\u001b[43m)\u001b[49m\n\u001b[1;32m      2\u001b[0m server \u001b[38;5;241m=\u001b[39m \u001b[38;5;28mslice\u001b[39m\u001b[38;5;241m.\u001b[39mget_node(name\u001b[38;5;241m=\u001b[39mserver_name)\n\u001b[1;32m      3\u001b[0m client \u001b[38;5;241m=\u001b[39m \u001b[38;5;28mslice\u001b[39m\u001b[38;5;241m.\u001b[39mget_node(name\u001b[38;5;241m=\u001b[39mclient_name)\n",
      "File \u001b[0;32m/opt/conda/lib/python3.11/site-packages/fabrictestbed_extensions/fablib/fablib.py:1643\u001b[0m, in \u001b[0;36mFablibManager.get_slice\u001b[0;34m(self, name, slice_id)\u001b[0m\n\u001b[1;32m   1641\u001b[0m         \u001b[38;5;28;01mreturn\u001b[39;00m slices[\u001b[38;5;241m0\u001b[39m]\n\u001b[1;32m   1642\u001b[0m     \u001b[38;5;28;01melse\u001b[39;00m:\n\u001b[0;32m-> 1643\u001b[0m         \u001b[38;5;28;01mraise\u001b[39;00m \u001b[38;5;167;01mException\u001b[39;00m(\n\u001b[1;32m   1644\u001b[0m             \u001b[38;5;124mf\u001b[39m\u001b[38;5;124m'\u001b[39m\u001b[38;5;124mUnable to find slice \u001b[39m\u001b[38;5;124m\"\u001b[39m\u001b[38;5;132;01m{\u001b[39;00mname\u001b[38;5;132;01m}\u001b[39;00m\u001b[38;5;124m\"\u001b[39m\u001b[38;5;124m for this project. Check slice name spelling and project id.\u001b[39m\u001b[38;5;124m'\u001b[39m\n\u001b[1;32m   1645\u001b[0m         )\n\u001b[1;32m   1646\u001b[0m \u001b[38;5;28;01melse\u001b[39;00m:\n\u001b[1;32m   1647\u001b[0m     \u001b[38;5;28;01mraise\u001b[39;00m \u001b[38;5;167;01mException\u001b[39;00m(\n\u001b[1;32m   1648\u001b[0m         \u001b[38;5;124m\"\u001b[39m\u001b[38;5;124mget_slice requires slice name (name) or slice id (slice_id)\u001b[39m\u001b[38;5;124m\"\u001b[39m\n\u001b[1;32m   1649\u001b[0m     )\n",
      "\u001b[0;31mException\u001b[0m: Unable to find slice \"MySlice-apache-web-server\" for this project. Check slice name spelling and project id."
     ]
    }
   ],
   "source": [
    "slice = fablib.get_slice(name=slice_name)\n",
    "server = slice.get_node(name=server_name)\n",
    "client = slice.get_node(name=client_name)"
   ]
  },
  {
   "cell_type": "markdown",
   "id": "3017c7dd-36e1-41f8-b539-8bcc447fa936",
   "metadata": {},
   "source": [
    "## Install Apache on the Server Node"
   ]
  },
  {
   "cell_type": "code",
   "execution_count": null,
   "id": "d2167e91-e94f-4cc0-9ea0-aa5f76498442",
   "metadata": {},
   "outputs": [],
   "source": [
    "apache_root_dir = \"/var/www/html\" # Default Root Directory to Store Web Server Files\n",
    "\n",
    "try:\n",
    "    print(\"Installing Apache...\")\n",
    "    stdout, stderr = server.execute(\"sudo apt-get update && sudo apt-get install -y apache2\")\n",
    "    print(\"Finished installing Apache.\")\n",
    "    \n",
    "except Exception as e:\n",
    "    print(f\"Exception: {e}\")"
   ]
  },
  {
   "cell_type": "markdown",
   "id": "1899f9ed-8223-4a16-b366-b54d7be4ec9c",
   "metadata": {},
   "source": [
    "## Optional: Set Up Firewall"
   ]
  },
  {
   "cell_type": "code",
   "execution_count": 6,
   "id": "50710e77-fbfb-4470-9dea-979d93841bfa",
   "metadata": {},
   "outputs": [
    {
     "name": "stdout",
     "output_type": "stream",
     "text": [
      "Setting up firewall...\n",
      "Rules updated\n",
      "Rules updated (v6)\n",
      "Rules updated\n",
      "Rules updated (v6)\n",
      "Command may disrupt existing ssh connections. Proceed with operation (y|n)? Firewall is active and enabled on system startup\n",
      "Finished setting up firewall.\n"
     ]
    }
   ],
   "source": [
    "commands = [\n",
    "    \"sudo ufw allow 'Apache'\",                                # Allow Port 80 Through Firewall\n",
    "    \"sudo ufw allow ssh\",                                     # Allow Port 22 Through Firewall (IMPORTANT)\n",
    "    \"echo 'y' | sudo ufw enable\"                              # Enable the Firewall\n",
    "]\n",
    "\n",
    "try:\n",
    "    print(\"Setting up firewall...\")\n",
    "    for command in commands:\n",
    "        stdout, stderr = server.execute(command)\n",
    "    print(\"Finished setting up firewall.\")\n",
    "    \n",
    "except Exception as e:\n",
    "    print(f\"Exception: {e}\")"
   ]
  },
  {
   "cell_type": "markdown",
   "id": "11b68f53-7d0d-4705-8f6a-b1129aa55345",
   "metadata": {},
   "source": [
    "## Check to Ensure the Firewall is Active\n",
    "\n",
    "The command below should result in a table that looks like:\n",
    "\n",
    "```\n",
    "Status: active\n",
    "\n",
    "To                         Action      From\n",
    "--                         ------      ----\n",
    "Apache                     ALLOW       Anywhere                  \n",
    "22/tcp                     ALLOW       Anywhere                  \n",
    "Apache (v6)                ALLOW       Anywhere (v6)             \n",
    "22/tcp (v6)                ALLOW       Anywhere (v6)             \n",
    "```"
   ]
  },
  {
   "cell_type": "code",
   "execution_count": 7,
   "id": "7c7cab77-45ba-457c-bb5e-c685e620cf1c",
   "metadata": {},
   "outputs": [
    {
     "name": "stdout",
     "output_type": "stream",
     "text": [
      "Status: active\n",
      "\n",
      "To                         Action      From\n",
      "--                         ------      ----\n",
      "Apache                     ALLOW       Anywhere                  \n",
      "22/tcp                     ALLOW       Anywhere                  \n",
      "Apache (v6)                ALLOW       Anywhere (v6)             \n",
      "22/tcp (v6)                ALLOW       Anywhere (v6)             \n",
      "\n",
      "Status: active\n",
      "\n",
      "To                         Action      From\n",
      "--                         ------      ----\n",
      "Apache                     ALLOW       Anywhere                  \n",
      "22/tcp                     ALLOW       Anywhere                  \n",
      "Apache (v6)                ALLOW       Anywhere (v6)             \n",
      "22/tcp (v6)                ALLOW       Anywhere (v6)             \n",
      "\n",
      "\n"
     ]
    }
   ],
   "source": [
    "try:\n",
    "    stdout, stderr = server.execute('sudo ufw status')\n",
    "    print(stdout)\n",
    "    \n",
    "except Exception as e:\n",
    "    print(f\"Exception: {e}\")"
   ]
  },
  {
   "cell_type": "markdown",
   "id": "b5687691-434f-44d6-8e52-25ff66daed01",
   "metadata": {},
   "source": [
    "## Check to Ensure the Apache Service is Active\n",
    "\n",
    "The command below should result in an entry that looks like:\n",
    "\n",
    "```\n",
    "● apache2.service - The Apache HTTP Server\n",
    "     Loaded: loaded (/lib/systemd/system/apache2.service; enabled; vendor preset: enabled)\n",
    "     Active: active (running) since ...\n",
    "```"
   ]
  },
  {
   "cell_type": "code",
   "execution_count": 8,
   "id": "d58a4fce-c682-4459-a974-8acbfcea8fe2",
   "metadata": {},
   "outputs": [
    {
     "name": "stdout",
     "output_type": "stream",
     "text": [
      "● apache2.service - The Apache HTTP Server\n",
      "     Loaded: loaded (/lib/systemd/system/apache2.service; enabled; vendor preset: enabled)\n",
      "     Active: active (running) since Mon 2024-05-06 22:04:39 UTC; 34s ago\n",
      "       Docs: https://httpd.apache.org/docs/2.4/\n",
      "   Main PID: 3046 (apache2)\n",
      "      Tasks: 55 (limit: 9494)\n",
      "     Memory: 5.4M\n",
      "     CGroup: /system.slice/apache2.service\n",
      "             ├─3046 /usr/sbin/apache2 -k start\n",
      "             ├─3080 /usr/sbin/apache2 -k start\n",
      "             └─3081 /usr/sbin/apache2 -k start\n",
      "\n",
      "May 06 22:04:39 server systemd[1]: Starting The Apache HTTP Server...\n",
      "May 06 22:04:39 server apachectl[3045]: AH00558: apache2: Could not reliably determine the server's fully qualified domain name, using 10.20.5.239. Set the 'ServerName' directive globally to suppress this message\n",
      "May 06 22:04:39 server systemd[1]: Started The Apache HTTP Server.\n",
      "● apache2.service - The Apache HTTP Server\n",
      "     Loaded: loaded (/lib/systemd/system/apache2.service; enabled; vendor preset: enabled)\n",
      "     Active: active (running) since Mon 2024-05-06 22:04:39 UTC; 34s ago\n",
      "       Docs: https://httpd.apache.org/docs/2.4/\n",
      "   Main PID: 3046 (apache2)\n",
      "      Tasks: 55 (limit: 9494)\n",
      "     Memory: 5.4M\n",
      "     CGroup: /system.slice/apache2.service\n",
      "             ├─3046 /usr/sbin/apache2 -k start\n",
      "             ├─3080 /usr/sbin/apache2 -k start\n",
      "             └─3081 /usr/sbin/apache2 -k start\n",
      "\n",
      "May 06 22:04:39 server systemd[1]: Starting The Apache HTTP Server...\n",
      "May 06 22:04:39 server apachectl[3045]: AH00558: apache2: Could not reliably determine the server's fully qualified domain name, using 10.20.5.239. Set the 'ServerName' directive globally to suppress this message\n",
      "May 06 22:04:39 server systemd[1]: Started The Apache HTTP Server.\n",
      "\n"
     ]
    }
   ],
   "source": [
    "try:\n",
    "    stdout, stderr = server.execute('sudo systemctl status apache2')\n",
    "    print(stdout)\n",
    "    \n",
    "except Exception as e:\n",
    "    print(f\"Exception: {e}\")"
   ]
  },
  {
   "cell_type": "markdown",
   "id": "49a43c1a-7983-48be-bab2-74d9e0697f72",
   "metadata": {},
   "source": [
    "## Optional: Change Directory of Where Apache Files are Stored\n",
    "\n",
    "Update the `apache_root_dir` variable below to the directory you would like to store your files."
   ]
  },
  {
   "cell_type": "code",
   "execution_count": 9,
   "id": "6ffe6260-e5e9-43c2-9de8-6f81a17a73bf",
   "metadata": {},
   "outputs": [
    {
     "name": "stdout",
     "output_type": "stream",
     "text": [
      "\n"
     ]
    }
   ],
   "source": [
    "apache_root_dir = \"/home/ubuntu/apache_contents\"\n",
    "change_root = f\"mkdir -p {apache_root_dir} && sudo sed -i 's,/var/www/html,{apache_root_dir},g' /etc/apache2/sites-available/000-default.conf && sudo sed -i 's,/var/www/html,{apache_root_dir},g' /etc/apache2/sites-available/default-ssl.conf && sudo sed -i 's,/var/www/,{apache_root_dir},g' /etc/apache2/apache2.conf\"\n",
    "\n",
    "try:\n",
    "    stdout, stderr = server.execute(change_root)\n",
    "    print(stderr)\n",
    "    \n",
    "except Exception as e:\n",
    "    print(f\"Exception: {e}\")"
   ]
  },
  {
   "cell_type": "markdown",
   "id": "c8296ad6-e2b7-47dd-85e0-9e7080086ab2",
   "metadata": {},
   "source": [
    "Restart the Apache service to have the changes take effect."
   ]
  },
  {
   "cell_type": "code",
   "execution_count": 10,
   "id": "bc81311d-5ae6-4250-b825-49d86f991bfb",
   "metadata": {},
   "outputs": [
    {
     "name": "stdout",
     "output_type": "stream",
     "text": [
      "\n"
     ]
    }
   ],
   "source": [
    "try:\n",
    "    stdout, stderr = server.execute(\"sudo service apache2 restart\")\n",
    "    print(stderr)\n",
    "    \n",
    "except Exception as e:\n",
    "    print(f\"Exception: {e}\")"
   ]
  },
  {
   "cell_type": "markdown",
   "id": "6b205506-72e8-4278-8191-79d713eae7f8",
   "metadata": {},
   "source": [
    "## Save Your Files to the Server\n",
    "\n",
    "Here, we will create a new file called `download_me`, which will be a simple text file. Let's write `Congratualtions! The Apache server was setup correctly.` to our file by redirecting the string into the command `tee`, which writes the string into the file."
   ]
  },
  {
   "cell_type": "code",
   "execution_count": 11,
   "id": "262c3977-e8e8-4530-93b5-24975c350cbe",
   "metadata": {},
   "outputs": [
    {
     "name": "stdout",
     "output_type": "stream",
     "text": [
      "Congratualtions! The Apache server was setup correctly.\n",
      "The file was created successfully.\n"
     ]
    }
   ],
   "source": [
    "create_file = f'echo \"Congratualtions! The Apache server was setup correctly.\" | sudo tee {apache_root_dir}/download_me'\n",
    "try:\n",
    "    stdout, stderr = server.execute(create_file)\n",
    "    print(\"The file was created successfully.\")\n",
    "    \n",
    "except Exception as e:\n",
    "    print(f\"Exception: {e}\")"
   ]
  },
  {
   "cell_type": "markdown",
   "id": "508bdacb-0ab9-40f8-9828-a9719dfff950",
   "metadata": {},
   "source": [
    "## Download the File to the Client\n",
    "\n",
    "We are now ready to test our web server! Let's download the `download_me` file we created to the client node using `wget`. Apache uses port 80 for normal, unencrypted web traffic."
   ]
  },
  {
   "cell_type": "code",
   "execution_count": 12,
   "id": "8c4fb713-d3c4-42c3-91e7-87f1bd07093c",
   "metadata": {},
   "outputs": [],
   "source": [
    "server_addr = server.get_interface(network_name=network_name).get_ip_addr()\n"
   ]
  },
  {
   "cell_type": "code",
   "execution_count": 13,
   "id": "fdad13c1-783c-4e2e-a938-c25b7eef2c12",
   "metadata": {},
   "outputs": [
    {
     "name": "stdout",
     "output_type": "stream",
     "text": [
      "\u001b[31m --2024-05-06 22:05:59--  http://192.168.1.2/download_me\n",
      "Connecting to 192.168.1.2:80... connected.\n",
      "HTTP request sent, awaiting response... 200 OK\n",
      "Length: 56\n",
      "Saving to: ‘download_me’\n",
      "\n",
      "     0K                                                       100% 22.5M=0s\n",
      "\n",
      "2024-05-06 22:05:59 (22.5 MB/s) - ‘download_me’ saved [56/56]\n",
      "\n",
      " \u001b[0m --2024-05-06 22:05:59--  http://192.168.1.2/download_me\n",
      "Connecting to 192.168.1.2:80... connected.\n",
      "HTTP request sent, awaiting response... 200 OK\n",
      "Length: 56\n",
      "Saving to: ‘download_me’\n",
      "\n",
      "     0K                                                       100% 22.5M=0s\n",
      "\n",
      "2024-05-06 22:05:59 (22.5 MB/s) - ‘download_me’ saved [56/56]\n",
      "\n",
      "\n",
      "Congratualtions! The Apache server was setup correctly.\n",
      "Congratualtions! The Apache server was setup correctly.\n",
      "\n"
     ]
    }
   ],
   "source": [
    "try:\n",
    "    stdout, stderr = client.execute(f'wget {server_addr}:80/download_me')\n",
    "    print(stdout,stderr)\n",
    "    stdout, stderr = client.execute(f'cat download_me')\n",
    "    print(stdout)\n",
    "    \n",
    "except Exception as e:\n",
    "    print(f\"Exception: {e}\")"
   ]
  },
  {
   "cell_type": "markdown",
   "id": "d1de6127-d421-4cc7-9835-3abc5b71a246",
   "metadata": {},
   "source": [
    "## Delete the Slice\n",
    "\n",
    "Please delete your slice when you are done with your experiment."
   ]
  },
  {
   "cell_type": "code",
   "execution_count": null,
   "id": "6cdd40ee-5b4d-4689-80ee-944e065849b8",
   "metadata": {},
   "outputs": [],
   "source": [
    "try:\n",
    "    slice = fablib.get_slice(name=slice_name)\n",
    "    slice.delete()\n",
    "except Exception as e:\n",
    "    print(f\"Exception: {e}\")"
   ]
  },
  {
   "cell_type": "code",
   "execution_count": null,
   "id": "fd3d44c9-e7a2-45f3-9046-7c89732518ce",
   "metadata": {},
   "outputs": [],
   "source": []
  }
 ],
 "metadata": {
  "kernelspec": {
   "display_name": "Python 3 (ipykernel)",
   "language": "python",
   "name": "python3"
  },
  "language_info": {
   "codemirror_mode": {
    "name": "ipython",
    "version": 3
   },
   "file_extension": ".py",
   "mimetype": "text/x-python",
   "name": "python",
   "nbconvert_exporter": "python",
   "pygments_lexer": "ipython3",
   "version": "3.11.8"
  }
 },
 "nbformat": 4,
 "nbformat_minor": 5
}
