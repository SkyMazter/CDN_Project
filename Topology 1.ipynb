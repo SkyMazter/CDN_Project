{
 "cells": [
  {
   "cell_type": "markdown",
   "id": "727b36cf-7ccf-49cd-ac1f-ad7b081ae7a2",
   "metadata": {},
   "source": [
    "# Topology with 1 net work and everything in it "
   ]
  },
  {
   "cell_type": "markdown",
   "id": "d2d831a3-3fff-4377-a7aa-0cba0354bcfc",
   "metadata": {},
   "source": [
    "## Import the FABlib library "
   ]
  },
  {
   "cell_type": "code",
   "execution_count": 2,
   "id": "1e319e9e-36ec-4680-b6dc-1cf81f7d4851",
   "metadata": {},
   "outputs": [
    {
     "data": {
      "text/html": [
       "<style type=\"text/css\">\n",
       "#T_1e8e2 tr:nth-child(even) {\n",
       "  background: #dbf3ff;\n",
       "  color: #231f20;\n",
       "}\n",
       "#T_1e8e2 tr:nth-child(odd) {\n",
       "  background: #ffffff;\n",
       "  color: #231f20;\n",
       "}\n",
       "#T_1e8e2 caption {\n",
       "  text-align: center;\n",
       "  font-size: 150%;\n",
       "}\n",
       "#T_1e8e2_row0_col0, #T_1e8e2_row0_col1, #T_1e8e2_row1_col0, #T_1e8e2_row1_col1, #T_1e8e2_row2_col0, #T_1e8e2_row2_col1, #T_1e8e2_row3_col0, #T_1e8e2_row3_col1, #T_1e8e2_row4_col0, #T_1e8e2_row4_col1, #T_1e8e2_row5_col0, #T_1e8e2_row5_col1, #T_1e8e2_row6_col0, #T_1e8e2_row6_col1, #T_1e8e2_row7_col0, #T_1e8e2_row7_col1, #T_1e8e2_row8_col0, #T_1e8e2_row8_col1, #T_1e8e2_row9_col0, #T_1e8e2_row9_col1, #T_1e8e2_row10_col0, #T_1e8e2_row10_col1, #T_1e8e2_row11_col0, #T_1e8e2_row11_col1, #T_1e8e2_row12_col0, #T_1e8e2_row12_col1, #T_1e8e2_row13_col0, #T_1e8e2_row13_col1, #T_1e8e2_row14_col0, #T_1e8e2_row14_col1, #T_1e8e2_row15_col0, #T_1e8e2_row15_col1, #T_1e8e2_row16_col0, #T_1e8e2_row16_col1 {\n",
       "  text-align: left;\n",
       "  border: 1px #231f20 solid !important;\n",
       "  overwrite: False;\n",
       "}\n",
       "</style>\n",
       "<table id=\"T_1e8e2\">\n",
       "  <caption>FABlib Config</caption>\n",
       "  <thead>\n",
       "  </thead>\n",
       "  <tbody>\n",
       "    <tr>\n",
       "      <td id=\"T_1e8e2_row0_col0\" class=\"data row0 col0\" >Orchestrator</td>\n",
       "      <td id=\"T_1e8e2_row0_col1\" class=\"data row0 col1\" >orchestrator.fabric-testbed.net</td>\n",
       "    </tr>\n",
       "    <tr>\n",
       "      <td id=\"T_1e8e2_row1_col0\" class=\"data row1 col0\" >Credential Manager</td>\n",
       "      <td id=\"T_1e8e2_row1_col1\" class=\"data row1 col1\" >cm.fabric-testbed.net</td>\n",
       "    </tr>\n",
       "    <tr>\n",
       "      <td id=\"T_1e8e2_row2_col0\" class=\"data row2 col0\" >Core API</td>\n",
       "      <td id=\"T_1e8e2_row2_col1\" class=\"data row2 col1\" >uis.fabric-testbed.net</td>\n",
       "    </tr>\n",
       "    <tr>\n",
       "      <td id=\"T_1e8e2_row3_col0\" class=\"data row3 col0\" >Token File</td>\n",
       "      <td id=\"T_1e8e2_row3_col1\" class=\"data row3 col1\" >/home/fabric/.tokens.json</td>\n",
       "    </tr>\n",
       "    <tr>\n",
       "      <td id=\"T_1e8e2_row4_col0\" class=\"data row4 col0\" >Project ID</td>\n",
       "      <td id=\"T_1e8e2_row4_col1\" class=\"data row4 col1\" >656d5ba5-76e6-44f2-9693-f65937c6de5e</td>\n",
       "    </tr>\n",
       "    <tr>\n",
       "      <td id=\"T_1e8e2_row5_col0\" class=\"data row5 col0\" >Bastion Host</td>\n",
       "      <td id=\"T_1e8e2_row5_col1\" class=\"data row5 col1\" >bastion.fabric-testbed.net</td>\n",
       "    </tr>\n",
       "    <tr>\n",
       "      <td id=\"T_1e8e2_row6_col0\" class=\"data row6 col0\" >Bastion Username</td>\n",
       "      <td id=\"T_1e8e2_row6_col1\" class=\"data row6 col1\" >dayanebobo_0000167444</td>\n",
       "    </tr>\n",
       "    <tr>\n",
       "      <td id=\"T_1e8e2_row7_col0\" class=\"data row7 col0\" >Bastion Private Key File</td>\n",
       "      <td id=\"T_1e8e2_row7_col1\" class=\"data row7 col1\" >/home/fabric/work/fabric_config/fabric-bastion-key</td>\n",
       "    </tr>\n",
       "    <tr>\n",
       "      <td id=\"T_1e8e2_row8_col0\" class=\"data row8 col0\" >Slice Public Key File</td>\n",
       "      <td id=\"T_1e8e2_row8_col1\" class=\"data row8 col1\" >/home/fabric/work/fabric_config/slice_key.pub</td>\n",
       "    </tr>\n",
       "    <tr>\n",
       "      <td id=\"T_1e8e2_row9_col0\" class=\"data row9 col0\" >Slice Private Key File</td>\n",
       "      <td id=\"T_1e8e2_row9_col1\" class=\"data row9 col1\" >/home/fabric/work/fabric_config/slice_key</td>\n",
       "    </tr>\n",
       "    <tr>\n",
       "      <td id=\"T_1e8e2_row10_col0\" class=\"data row10 col0\" >Sites to avoid</td>\n",
       "      <td id=\"T_1e8e2_row10_col1\" class=\"data row10 col1\" ></td>\n",
       "    </tr>\n",
       "    <tr>\n",
       "      <td id=\"T_1e8e2_row11_col0\" class=\"data row11 col0\" >SSH Command Line</td>\n",
       "      <td id=\"T_1e8e2_row11_col1\" class=\"data row11 col1\" >ssh -i {{ _self_.private_ssh_key_file }} -F /home/fabric/work/fabric_config/ssh_config {{ _self_.username }}@{{ _self_.management_ip }}</td>\n",
       "    </tr>\n",
       "    <tr>\n",
       "      <td id=\"T_1e8e2_row12_col0\" class=\"data row12 col0\" >Log Level</td>\n",
       "      <td id=\"T_1e8e2_row12_col1\" class=\"data row12 col1\" >INFO</td>\n",
       "    </tr>\n",
       "    <tr>\n",
       "      <td id=\"T_1e8e2_row13_col0\" class=\"data row13 col0\" >Log File</td>\n",
       "      <td id=\"T_1e8e2_row13_col1\" class=\"data row13 col1\" >/tmp/fablib/fablib.log</td>\n",
       "    </tr>\n",
       "    <tr>\n",
       "      <td id=\"T_1e8e2_row14_col0\" class=\"data row14 col0\" >Bastion SSH Config File</td>\n",
       "      <td id=\"T_1e8e2_row14_col1\" class=\"data row14 col1\" >/home/fabric/work/fabric_config/ssh_config</td>\n",
       "    </tr>\n",
       "    <tr>\n",
       "      <td id=\"T_1e8e2_row15_col0\" class=\"data row15 col0\" >Version</td>\n",
       "      <td id=\"T_1e8e2_row15_col1\" class=\"data row15 col1\" >1.6.2</td>\n",
       "    </tr>\n",
       "    <tr>\n",
       "      <td id=\"T_1e8e2_row16_col0\" class=\"data row16 col0\" >Data directory</td>\n",
       "      <td id=\"T_1e8e2_row16_col1\" class=\"data row16 col1\" >/tmp/fablib</td>\n",
       "    </tr>\n",
       "  </tbody>\n",
       "</table>\n"
      ],
      "text/plain": [
       "<pandas.io.formats.style.Styler at 0x7bed41d30a50>"
      ]
     },
     "metadata": {},
     "output_type": "display_data"
    }
   ],
   "source": [
    "from ipaddress import ip_address, IPv4Address, IPv6Address, IPv4Network, IPv6Network\n",
    "from fabrictestbed_extensions.fablib.fablib import FablibManager as fablib_manager\n",
    "\n",
    "fablib = fablib_manager()\n",
    "                     \n",
    "fablib.show_config();"
   ]
  },
  {
   "cell_type": "code",
   "execution_count": 6,
   "id": "ce53864e-4c0a-45ad-9133-ad9543c991cf",
   "metadata": {},
   "outputs": [
    {
     "ename": "Exception",
     "evalue": "Submit request error: return_status Status.FAILURE, slice_reservations: (500)\nReason: INTERNAL SERVER ERROR\nHTTP response headers: HTTPHeaderDict({'Server': 'nginx/1.21.6', 'Date': 'Thu, 16 May 2024 21:17:24 GMT', 'Content-Type': 'text/html; charset=utf-8', 'Content-Length': '205', 'Connection': 'keep-alive', 'Access-Control-Allow-Credentials': 'true', 'Access-Control-Allow-Headers': 'DNT, User-Agent, X-Requested-With, If-Modified-Since, Cache-Control, Content-Type, Range, Authorization', 'Access-Control-Allow-Methods': 'GET, POST, PUT, PATCH, DELETE, OPTIONS', 'Access-Control-Allow-Origin': '*', 'Access-Control-Expose-Headers': 'Content-Length, Content-Range, X-Error', 'X-Error': 'Slice Topology_1 already exists'})\nHTTP response body: b'{\\n    \"errors\": [\\n        {\\n            \"details\": \"Slice Topology_1 already exists\",\\n            \"message\": \"Internal Server Error\"\\n        }\\n    ],\\n    \"size\": 1,\\n    \"status\": 500,\\n    \"type\": \"error\"\\n}'\n",
     "output_type": "error",
     "traceback": [
      "\u001b[0;31m---------------------------------------------------------------------------\u001b[0m",
      "\u001b[0;31mException\u001b[0m                                 Traceback (most recent call last)",
      "Cell \u001b[0;32mIn[6], line 30\u001b[0m\n\u001b[1;32m     27\u001b[0m node4\u001b[38;5;241m.\u001b[39madd_fabnet()\n\u001b[1;32m     29\u001b[0m \u001b[38;5;66;03m#Submit Slice Request\u001b[39;00m\n\u001b[0;32m---> 30\u001b[0m \u001b[38;5;28;43mslice\u001b[39;49m\u001b[38;5;241;43m.\u001b[39;49m\u001b[43msubmit\u001b[49m\u001b[43m(\u001b[49m\u001b[43m)\u001b[49m\n",
      "File \u001b[0;32m/opt/conda/lib/python3.11/site-packages/fabrictestbed_extensions/fablib/slice.py:1981\u001b[0m, in \u001b[0;36mSlice.submit\u001b[0;34m(self, wait, wait_timeout, wait_interval, progress, wait_jupyter, post_boot_config, wait_ssh, extra_ssh_keys)\u001b[0m\n\u001b[1;32m   1977\u001b[0m     \u001b[38;5;28;01melse\u001b[39;00m:\n\u001b[1;32m   1978\u001b[0m         logging\u001b[38;5;241m.\u001b[39merror(\n\u001b[1;32m   1979\u001b[0m             \u001b[38;5;124mf\u001b[39m\u001b[38;5;124m\"\u001b[39m\u001b[38;5;124mSubmit request error: return_status \u001b[39m\u001b[38;5;132;01m{\u001b[39;00mreturn_status\u001b[38;5;132;01m}\u001b[39;00m\u001b[38;5;124m, slice_reservations: \u001b[39m\u001b[38;5;132;01m{\u001b[39;00mslice_reservations\u001b[38;5;132;01m}\u001b[39;00m\u001b[38;5;124m\"\u001b[39m\n\u001b[1;32m   1980\u001b[0m         )\n\u001b[0;32m-> 1981\u001b[0m         \u001b[38;5;28;01mraise\u001b[39;00m \u001b[38;5;167;01mException\u001b[39;00m(\n\u001b[1;32m   1982\u001b[0m             \u001b[38;5;124mf\u001b[39m\u001b[38;5;124m\"\u001b[39m\u001b[38;5;124mSubmit request error: return_status \u001b[39m\u001b[38;5;132;01m{\u001b[39;00mreturn_status\u001b[38;5;132;01m}\u001b[39;00m\u001b[38;5;124m, slice_reservations: \u001b[39m\u001b[38;5;132;01m{\u001b[39;00mslice_reservations\u001b[38;5;132;01m}\u001b[39;00m\u001b[38;5;124m\"\u001b[39m\n\u001b[1;32m   1983\u001b[0m         )\n\u001b[1;32m   1985\u001b[0m \u001b[38;5;28;01mif\u001b[39;00m return_status \u001b[38;5;241m!=\u001b[39m Status\u001b[38;5;241m.\u001b[39mOK:\n\u001b[1;32m   1986\u001b[0m     \u001b[38;5;28;01mraise\u001b[39;00m \u001b[38;5;167;01mException\u001b[39;00m(\n\u001b[1;32m   1987\u001b[0m         \u001b[38;5;124m\"\u001b[39m\u001b[38;5;124mFailed to submit slice: \u001b[39m\u001b[38;5;132;01m{}\u001b[39;00m\u001b[38;5;124m, \u001b[39m\u001b[38;5;132;01m{}\u001b[39;00m\u001b[38;5;124m\"\u001b[39m\u001b[38;5;241m.\u001b[39mformat(\n\u001b[1;32m   1988\u001b[0m             return_status, slice_reservations\n\u001b[1;32m   1989\u001b[0m         )\n\u001b[1;32m   1990\u001b[0m     )\n",
      "\u001b[0;31mException\u001b[0m: Submit request error: return_status Status.FAILURE, slice_reservations: (500)\nReason: INTERNAL SERVER ERROR\nHTTP response headers: HTTPHeaderDict({'Server': 'nginx/1.21.6', 'Date': 'Thu, 16 May 2024 21:17:24 GMT', 'Content-Type': 'text/html; charset=utf-8', 'Content-Length': '205', 'Connection': 'keep-alive', 'Access-Control-Allow-Credentials': 'true', 'Access-Control-Allow-Headers': 'DNT, User-Agent, X-Requested-With, If-Modified-Since, Cache-Control, Content-Type, Range, Authorization', 'Access-Control-Allow-Methods': 'GET, POST, PUT, PATCH, DELETE, OPTIONS', 'Access-Control-Allow-Origin': '*', 'Access-Control-Expose-Headers': 'Content-Length, Content-Range, X-Error', 'X-Error': 'Slice Topology_1 already exists'})\nHTTP response body: b'{\\n    \"errors\": [\\n        {\\n            \"details\": \"Slice Topology_1 already exists\",\\n            \"message\": \"Internal Server Error\"\\n        }\\n    ],\\n    \"size\": 1,\\n    \"status\": 500,\\n    \"type\": \"error\"\\n}'\n"
     ]
    }
   ],
   "source": [
    "slice_name = 'Topology_1'\n",
    "#Create Slice\n",
    "slice = fablib.new_slice(slice_name)\n",
    "\n",
    "# Add the first node\n",
    "node1 = slice.add_node(name='Server_1', \n",
    "                      site='WASH',\n",
    "                      image='default_ubuntu_22')\n",
    "node1.add_fabnet()\n",
    "\n",
    "# Add the second node \n",
    "node2 = slice.add_node(name='Server_2', \n",
    "                      site='WASH',\n",
    "                      image='default_ubuntu_22')\n",
    "node2.add_fabnet()\n",
    "\n",
    "# Add the third node\n",
    "node3 = slice.add_node(name='Server_3', \n",
    "                      site='WASH',\n",
    "                      image='default_ubuntu_22')\n",
    "node3.add_fabnet()\n",
    "\n",
    "# Add the fourth node \n",
    "node4 = slice.add_node(name='Client', \n",
    "                      site='WASH',\n",
    "                      image='default_ubuntu_22')\n",
    "node4.add_fabnet()\n",
    "\n",
    "#Submit Slice Request\n",
    "slice.submit()\n"
   ]
  },
  {
   "cell_type": "code",
   "execution_count": null,
   "id": "b145b0e3-b3e3-4332-87c5-e16740417979",
   "metadata": {},
   "outputs": [],
   "source": [
    "\n",
    "    "
   ]
  },
  {
   "cell_type": "markdown",
   "id": "e27920de-163d-4195-b63c-2a97e40c3d4e",
   "metadata": {},
   "source": [
    "## Delete the Slice\n",
    "\n",
    "Please delete your slice when you are done with your experiment."
   ]
  },
  {
   "cell_type": "code",
   "execution_count": 7,
   "id": "62be537f-047e-4d7f-a2a6-ef061daad0bf",
   "metadata": {},
   "outputs": [],
   "source": [
    "try:\n",
    "    slice = fablib.get_slice(name=slice_name)\n",
    "    slice.delete()\n",
    "except Exception as e:\n",
    "    print(f\"Exception: {e}\")"
   ]
  },
  {
   "cell_type": "code",
   "execution_count": null,
   "id": "78214c46-ebf8-42f2-b10d-b4e0a08c73fd",
   "metadata": {},
   "outputs": [],
   "source": []
  }
 ],
 "metadata": {
  "kernelspec": {
   "display_name": "Python 3 (ipykernel)",
   "language": "python",
   "name": "python3"
  },
  "language_info": {
   "codemirror_mode": {
    "name": "ipython",
    "version": 3
   },
   "file_extension": ".py",
   "mimetype": "text/x-python",
   "name": "python",
   "nbconvert_exporter": "python",
   "pygments_lexer": "ipython3",
   "version": "3.11.8"
  }
 },
 "nbformat": 4,
 "nbformat_minor": 5
}
