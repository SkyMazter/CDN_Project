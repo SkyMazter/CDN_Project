{
 "cells": [
  {
   "cell_type": "code",
   "execution_count": 3,
   "id": "a057773c-1a07-4760-b403-13cf6e5bd974",
   "metadata": {},
   "outputs": [
    {
     "name": "stdout",
     "output_type": "stream",
     "text": [
      "Request 1 routed to Server1\n",
      "Request 2 routed to Server2\n",
      "Request 3 routed to Server3\n",
      "Request 4 routed to Server1\n",
      "Request 5 routed to Server2\n",
      "Request 6 routed to Server3\n",
      "Request 7 routed to Server1\n",
      "Request 8 routed to Server2\n",
      "Request 9 routed to Server3\n",
      "Request 10 routed to Server1\n"
     ]
    }
   ],
   "source": [
    "class LoadBalancer:\n",
    "    def __init__(self, servers):\n",
    "        self.servers = servers\n",
    "        self.current_server_index = 0\n",
    "\n",
    "    def get_next_server(self):\n",
    "        # Get the next server in round-robin fashion\n",
    "        server = self.servers[self.current_server_index]\n",
    "        # Update the index for the next request\n",
    "        self.current_server_index = (self.current_server_index + 1) % len(self.servers)\n",
    "        return server\n",
    "\n",
    "# Example usage\n",
    "servers = [\"Server1\", \"Server2\", \"Server3\"]\n",
    "load_balancer = LoadBalancer(servers)\n",
    "\n",
    "# Simulate incoming requests\n",
    "for i in range(10):\n",
    "    server = load_balancer.get_next_server()\n",
    "    print(f\"Request {i+1} routed to {server}\")\n"
   ]
  },
  {
   "cell_type": "code",
   "execution_count": null,
   "id": "624b1061-d655-4ce1-9ace-9a8a200867f6",
   "metadata": {},
   "outputs": [],
   "source": [
    "class DynamicLoadBalancer:\n",
    "    def __init__(self):\n",
    "        self.servers = []\n",
    "\n",
    "    def add_server(self, server):\n",
    "        # Add a server to the list of available servers\n",
    "        self.servers.append(server)\n",
    "\n",
    "    def remove_server(self, server):\n",
    "        # Remove a server from the list of available servers\n",
    "        if server in self.servers:\n",
    "            self.servers.remove(server)\n",
    "\n",
    "    def get_next_server(self):\n",
    "        # Return the next available server\n",
    "        if self.servers:\n",
    "            return self.servers[0]\n",
    "        else:\n",
    "            return None\n",
    "\n",
    "# Example usage\n",
    "load_balancer = DynamicLoadBalancer()\n",
    "\n",
    "# Add servers dynamically\n",
    "load_balancer.add_server(\"Server1\")\n",
    "load_balancer.add_server(\"Server2\")\n",
    "load_balancer.add_server(\"Server3\")\n",
    "\n",
    "# Simulate incoming requests\n",
    "for i in range(10):\n",
    "    server = load_balancer.get_next_server()\n",
    "    if server:\n",
    "        print(f\"Request {i+1} routed to {server}\")\n",
    "        # Simulate server removal for demonstration\n",
    "        if i == 5:\n",
    "            load_balancer.remove_server(server)\n",
    "    else:\n",
    "        print(f\"No available servers for request {i+1}\")"
   ]
  }
 ],
 "metadata": {
  "kernelspec": {
   "display_name": "Python 3 (ipykernel)",
   "language": "python",
   "name": "python3"
  },
  "language_info": {
   "codemirror_mode": {
    "name": "ipython",
    "version": 3
   },
   "file_extension": ".py",
   "mimetype": "text/x-python",
   "name": "python",
   "nbconvert_exporter": "python",
   "pygments_lexer": "ipython3",
   "version": "3.11.8"
  }
 },
 "nbformat": 4,
 "nbformat_minor": 5
}
